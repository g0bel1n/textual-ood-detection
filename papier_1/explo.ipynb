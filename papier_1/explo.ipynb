{
 "cells": [
  {
   "cell_type": "code",
   "execution_count": 1,
   "metadata": {},
   "outputs": [
    {
     "name": "stderr",
     "output_type": "stream",
     "text": [
      "2023-02-13 14:03:11.169535: I tensorflow/core/platform/cpu_feature_guard.cc:193] This TensorFlow binary is optimized with oneAPI Deep Neural Network Library (oneDNN) to use the following CPU instructions in performance-critical operations:  AVX2 FMA\n",
      "To enable them in other operations, rebuild TensorFlow with the appropriate compiler flags.\n"
     ]
    }
   ],
   "source": [
    "import numpy as np\n",
    "import torch\n",
    "\n",
    "\n",
    "from transformers import AutoTokenizer, AutoModelForSequenceClassification, TextClassificationPipeline\n",
    "from datasets import load_dataset\n",
    "\n",
    "from tqdm import tqdm\n"
   ]
  },
  {
   "cell_type": "code",
   "execution_count": 2,
   "metadata": {},
   "outputs": [],
   "source": [
    "tokenizer = AutoTokenizer.from_pretrained(\"fabriceyhc/bert-base-uncased-imdb\")\n",
    "\n",
    "model = AutoModelForSequenceClassification.from_pretrained(\"fabriceyhc/bert-base-uncased-imdb\")"
   ]
  },
  {
   "cell_type": "code",
   "execution_count": 3,
   "metadata": {},
   "outputs": [
    {
     "name": "stderr",
     "output_type": "stream",
     "text": [
      "Found cached dataset imdb (/Users/lilianmarey/.cache/huggingface/datasets/imdb/plain_text/1.0.0/2fdd8b9bcadd6e7055e742a706876ba43f19faee861df134affd7a3f60fc38a1)\n"
     ]
    },
    {
     "data": {
      "application/vnd.jupyter.widget-view+json": {
       "model_id": "33d92c6285be40eb9be9fca4efd3be0b",
       "version_major": 2,
       "version_minor": 0
      },
      "text/plain": [
       "  0%|          | 0/3 [00:00<?, ?it/s]"
      ]
     },
     "metadata": {},
     "output_type": "display_data"
    }
   ],
   "source": [
    "dataset = load_dataset(\"imdb\")"
   ]
  },
  {
   "cell_type": "code",
   "execution_count": 4,
   "metadata": {},
   "outputs": [],
   "source": [
    "def features_hook_0(model, inp, output):\n",
    "    global feat_0\n",
    "    feat_0 = output\n",
    "\n",
    "def features_hook_1(model, inp, output):\n",
    "    global feat_1\n",
    "    feat_1 = output\n",
    "\n",
    "def features_hook_2(model, inp, output):\n",
    "    global feat_2\n",
    "    feat_2 = output\n",
    "\n",
    "def features_hook_3(model, inp, output):\n",
    "    global feat_3\n",
    "    feat_3 = output\n",
    "\n",
    "def features_hook_4(model, inp, output):\n",
    "    global feat_4\n",
    "    feat_4 = output\n",
    "\n",
    "def features_hook_5(model, inp, output):\n",
    "    global feat_5\n",
    "    feat_5 = output\n",
    "\n",
    "def features_hook_6(model, inp, output):\n",
    "    global feat_6\n",
    "    feat_6 = output\n",
    "\n",
    "def features_hook_7(model, inp, output):\n",
    "    global feat_7\n",
    "    feat_7 = output\n",
    "\n",
    "def features_hook_8(model, inp, output):\n",
    "    global feat_8\n",
    "    feat_8 = output\n",
    "\n",
    "def features_hook_9(model, inp, output):\n",
    "    global feat_9\n",
    "    feat_9 = output\n",
    "\n",
    "def features_hook_10(model, inp, output):\n",
    "    global feat_10\n",
    "    feat_10 = output\n",
    "\n",
    "def features_hook_11(model, inp, output):\n",
    "    global feat_11\n",
    "    feat_11 = output\n",
    "\n",
    "features_hooks = [features_hook_0, features_hook_1, features_hook_2, \n",
    "                    features_hook_3, features_hook_4, features_hook_5, \n",
    "                    features_hook_6, features_hook_7, features_hook_8, \n",
    "                    features_hook_9, features_hook_10, features_hook_11]\n",
    "\n",
    "\n",
    "\n",
    "feat_hook = [model.base_model.encoder.layer[i].register_forward_hook(features_hooks[i]) for i in range(12)]"
   ]
  },
  {
   "cell_type": "code",
   "execution_count": 5,
   "metadata": {},
   "outputs": [],
   "source": [
    "def get_lattent_representation(input_data, model):\n",
    "    pipe = TextClassificationPipeline(\n",
    "                                model=model, tokenizer=tokenizer\n",
    "                                )\n",
    "    pipe(input_data)\n",
    "    feats = [feat_0[0], feat_1[0], feat_2[0], \n",
    "                feat_3[0], feat_4[0], feat_5[0], \n",
    "                feat_6[0], feat_7[0], feat_8[0], \n",
    "                feat_9[0], feat_10[0], feat_11[0]]\n",
    "\n",
    "    aggregated_features = torch.mean(torch.stack(feats), dim = (0, 1))\n",
    "\n",
    "    return aggregated_features\n",
    "\n"
   ]
  },
  {
   "cell_type": "code",
   "execution_count": 6,
   "metadata": {},
   "outputs": [
    {
     "name": "stderr",
     "output_type": "stream",
     "text": [
      "100%|██████████| 10/10 [00:11<00:00,  1.17s/it]\n"
     ]
    }
   ],
   "source": [
    "distrib =[] \n",
    "fail = []\n",
    "for i in tqdm(range(10)):\n",
    "    try:\n",
    "        distrib.append(get_lattent_representation(dataset['test'][i]['text'], model))\n",
    "    except:\n",
    "        fail.append(i)"
   ]
  },
  {
   "cell_type": "code",
   "execution_count": 9,
   "metadata": {},
   "outputs": [
    {
     "data": {
      "text/plain": [
       "[]"
      ]
     },
     "execution_count": 9,
     "metadata": {},
     "output_type": "execute_result"
    }
   ],
   "source": [
    "fail"
   ]
  },
  {
   "cell_type": "code",
   "execution_count": null,
   "metadata": {},
   "outputs": [],
   "source": []
  }
 ],
 "metadata": {
  "kernelspec": {
   "display_name": "env_nlp",
   "language": "python",
   "name": "python3"
  },
  "language_info": {
   "codemirror_mode": {
    "name": "ipython",
    "version": 3
   },
   "file_extension": ".py",
   "mimetype": "text/x-python",
   "name": "python",
   "nbconvert_exporter": "python",
   "pygments_lexer": "ipython3",
   "version": "3.10.10"
  },
  "orig_nbformat": 4,
  "vscode": {
   "interpreter": {
    "hash": "d1f11cf8f5b711fc7174c75570cbde91382dd4efbaef8a0daafd52d5b4dc7749"
   }
  }
 },
 "nbformat": 4,
 "nbformat_minor": 2
}
