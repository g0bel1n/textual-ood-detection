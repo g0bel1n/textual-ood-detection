{
 "cells": [
  {
   "cell_type": "code",
   "execution_count": 1,
   "metadata": {},
   "outputs": [
    {
     "name": "stderr",
     "output_type": "stream",
     "text": [
      "2023-02-13 17:39:03.975240: I tensorflow/core/platform/cpu_feature_guard.cc:193] This TensorFlow binary is optimized with oneAPI Deep Neural Network Library (oneDNN) to use the following CPU instructions in performance-critical operations:  AVX2 AVX512F AVX512_VNNI FMA\n",
      "To enable them in other operations, rebuild TensorFlow with the appropriate compiler flags.\n",
      "2023-02-13 17:39:04.198221: I tensorflow/core/util/port.cc:104] oneDNN custom operations are on. You may see slightly different numerical results due to floating-point round-off errors from different computation orders. To turn them off, set the environment variable `TF_ENABLE_ONEDNN_OPTS=0`.\n",
      "2023-02-13 17:39:05.036705: W tensorflow/compiler/xla/stream_executor/platform/default/dso_loader.cc:64] Could not load dynamic library 'libnvinfer.so.7'; dlerror: libnvinfer.so.7: cannot open shared object file: No such file or directory\n",
      "2023-02-13 17:39:05.036787: W tensorflow/compiler/xla/stream_executor/platform/default/dso_loader.cc:64] Could not load dynamic library 'libnvinfer_plugin.so.7'; dlerror: libnvinfer_plugin.so.7: cannot open shared object file: No such file or directory\n",
      "2023-02-13 17:39:05.036795: W tensorflow/compiler/tf2tensorrt/utils/py_utils.cc:38] TF-TRT Warning: Cannot dlopen some TensorRT libraries. If you would like to use Nvidia GPU with TensorRT, please make sure the missing libraries mentioned above are installed properly.\n"
     ]
    }
   ],
   "source": [
    "import numpy as np\n",
    "import torch\n",
    "import pandas as pd\n",
    "import plotly.express as px\n",
    "\n",
    "from transformers import AutoTokenizer, AutoModelForSequenceClassification, TextClassificationPipeline\n",
    "from datasets import load_dataset\n",
    "\n",
    "from tqdm import tqdm\n"
   ]
  },
  {
   "cell_type": "code",
   "execution_count": 2,
   "metadata": {},
   "outputs": [],
   "source": [
    "tokenizer = AutoTokenizer.from_pretrained(\"fabriceyhc/bert-base-uncased-imdb\")\n",
    "\n",
    "model = AutoModelForSequenceClassification.from_pretrained(\"fabriceyhc/bert-base-uncased-imdb\")"
   ]
  },
  {
   "cell_type": "code",
   "execution_count": 3,
   "metadata": {},
   "outputs": [
    {
     "name": "stderr",
     "output_type": "stream",
     "text": [
      "Found cached dataset imdb (/home/onyxia/.cache/huggingface/datasets/imdb/plain_text/1.0.0/2fdd8b9bcadd6e7055e742a706876ba43f19faee861df134affd7a3f60fc38a1)\n"
     ]
    },
    {
     "data": {
      "application/vnd.jupyter.widget-view+json": {
       "model_id": "a9d47f19efd94e94b1447c6d02932ed9",
       "version_major": 2,
       "version_minor": 0
      },
      "text/plain": [
       "  0%|          | 0/3 [00:00<?, ?it/s]"
      ]
     },
     "metadata": {},
     "output_type": "display_data"
    }
   ],
   "source": [
    "dataset = load_dataset(\"imdb\")"
   ]
  },
  {
   "cell_type": "markdown",
   "metadata": {},
   "source": [
    "## Generate IN distribution"
   ]
  },
  {
   "cell_type": "code",
   "execution_count": 4,
   "metadata": {},
   "outputs": [],
   "source": [
    "def features_hook_0(model, inp, output):\n",
    "    global feat_0\n",
    "    feat_0 = output\n",
    "\n",
    "def features_hook_1(model, inp, output):\n",
    "    global feat_1\n",
    "    feat_1 = output\n",
    "\n",
    "def features_hook_2(model, inp, output):\n",
    "    global feat_2\n",
    "    feat_2 = output\n",
    "\n",
    "def features_hook_3(model, inp, output):\n",
    "    global feat_3\n",
    "    feat_3 = output\n",
    "\n",
    "def features_hook_4(model, inp, output):\n",
    "    global feat_4\n",
    "    feat_4 = output\n",
    "\n",
    "def features_hook_5(model, inp, output):\n",
    "    global feat_5\n",
    "    feat_5 = output\n",
    "\n",
    "def features_hook_6(model, inp, output):\n",
    "    global feat_6\n",
    "    feat_6 = output\n",
    "\n",
    "def features_hook_7(model, inp, output):\n",
    "    global feat_7\n",
    "    feat_7 = output\n",
    "\n",
    "def features_hook_8(model, inp, output):\n",
    "    global feat_8\n",
    "    feat_8 = output\n",
    "\n",
    "def features_hook_9(model, inp, output):\n",
    "    global feat_9\n",
    "    feat_9 = output\n",
    "\n",
    "def features_hook_10(model, inp, output):\n",
    "    global feat_10\n",
    "    feat_10 = output\n",
    "\n",
    "def features_hook_11(model, inp, output):\n",
    "    global feat_11\n",
    "    feat_11 = output\n",
    "\n",
    "features_hooks = [features_hook_0, features_hook_1, features_hook_2, \n",
    "                    features_hook_3, features_hook_4, features_hook_5, \n",
    "                    features_hook_6, features_hook_7, features_hook_8, \n",
    "                    features_hook_9, features_hook_10, features_hook_11]\n",
    "\n",
    "\n",
    "\n",
    "feat_hook = [model.base_model.encoder.layer[i].register_forward_hook(features_hooks[i]) for i in range(12)]"
   ]
  },
  {
   "cell_type": "code",
   "execution_count": 5,
   "metadata": {},
   "outputs": [],
   "source": [
    "def get_lattent_representation(input_data, model):\n",
    "    pipe = TextClassificationPipeline(\n",
    "                                model=model, tokenizer=tokenizer\n",
    "                                )\n",
    "    pipe(input_data)\n",
    "    feats = [feat_0[0], feat_1[0], feat_2[0], \n",
    "                feat_3[0], feat_4[0], feat_5[0], \n",
    "                feat_6[0], feat_7[0], feat_8[0], \n",
    "                feat_9[0], feat_10[0], feat_11[0]]\n",
    "\n",
    "    aggregated_features = torch.mean(torch.stack(feats), dim = (0, 1, 2))\n",
    "\n",
    "    return aggregated_features\n",
    "\n"
   ]
  },
  {
   "cell_type": "code",
   "execution_count": 8,
   "metadata": {},
   "outputs": [
    {
     "name": "stderr",
     "output_type": "stream",
     "text": [
      "  0%|          | 8/25000 [00:01<1:28:41,  4.70it/s]Token indices sequence length is longer than the specified maximum sequence length for this model (720 > 512). Running this sequence through the model will result in indexing errors\n",
      " 33%|███▎      | 8207/25000 [18:18<42:00,  6.66it/s]  "
     ]
    }
   ],
   "source": [
    "distrib =[] \n",
    "fail = []\n",
    "for i in tqdm(range(len(dataset['train']))):\n",
    "\n",
    "    try:\n",
    "        distrib.append(get_lattent_representation(dataset['train'][i]['text'], model))\n",
    "    except:\n",
    "        fail.append(i)\n",
    "\n",
    "def process_distrib(distrib):\n",
    "    return np.vstack([distrib[i].numpy().flatten() for i in range(len(distrib))])\n",
    "\n",
    "distrib = process_distrib(distrib)\n",
    "pd.DataFrame(distrib).to_csv('distrib.csv', index = False)\n",
    "\n",
    "# distrib = np.array(pd.read_csv('distrib.csv'))"
   ]
  },
  {
   "cell_type": "markdown",
   "metadata": {},
   "source": [
    "## Functions for distribution-input distance"
   ]
  },
  {
   "cell_type": "code",
   "execution_count": null,
   "metadata": {},
   "outputs": [],
   "source": [
    "def generate_sphere_point(ndim):\n",
    "    vec = np.random.randn(ndim)\n",
    "    vec /= np.linalg.norm(vec, axis=0)\n",
    "    return vec\n",
    "\n",
    "def compute_minimum_value(x, distrib, u_k):\n",
    "    positive_rate = np.mean(np.array([np.dot(u_k, distrib[i] - x) for i in range(len(distrib))]) > 0)\n",
    "    return min(positive_rate, 1 - positive_rate)\n",
    "\n",
    "def D(x, distrib, n_proj = 10):\n",
    "    u = [generate_sphere_point(x.shape[0]) for _ in range(n_proj)]\n",
    "    vector_of_minimums = [compute_minimum_value(x, distrib, u_k) for u_k in u]\n",
    "    return np.mean(vector_of_minimums)"
   ]
  },
  {
   "cell_type": "markdown",
   "metadata": {},
   "source": [
    "## Importing OUT Data"
   ]
  },
  {
   "cell_type": "code",
   "execution_count": null,
   "metadata": {},
   "outputs": [],
   "source": [
    "out_dataset = load_dataset(\"sst2\")"
   ]
  },
  {
   "cell_type": "markdown",
   "metadata": {},
   "source": [
    "## Computing OUT distances "
   ]
  },
  {
   "cell_type": "code",
   "execution_count": null,
   "metadata": {},
   "outputs": [],
   "source": [
    "out_distances = []\n",
    "for i in tqdm(range(1000)):\n",
    "    x = get_lattent_representation(out_dataset['test'][i]['sentence'], model)\n",
    "    out_distances.append(D(x.numpy(), distrib))"
   ]
  },
  {
   "cell_type": "markdown",
   "metadata": {},
   "source": [
    "## Computing IN distances"
   ]
  },
  {
   "cell_type": "code",
   "execution_count": null,
   "metadata": {},
   "outputs": [],
   "source": [
    "in_distances = []\n",
    "in_fail = []\n",
    "\n",
    "for i in tqdm(range(1000)):\n",
    "    if i%100 == 0:\n",
    "        print(i)\n",
    "    try:\n",
    "        x = get_lattent_representation(dataset['test'][i]['text'], model)\n",
    "        in_distances.append(D(x.numpy(), distrib))\n",
    "    except:\n",
    "        in_fail.append(i)"
   ]
  },
  {
   "cell_type": "markdown",
   "metadata": {},
   "source": [
    "## Results"
   ]
  },
  {
   "cell_type": "code",
   "execution_count": null,
   "metadata": {},
   "outputs": [],
   "source": [
    "out_distances = out_distances[:len(in_distances)]"
   ]
  },
  {
   "cell_type": "code",
   "execution_count": null,
   "metadata": {},
   "outputs": [],
   "source": [
    "px.histogram(\n",
    "            out_distances + in_distances, \n",
    "            color = ['out']*len(out_distances) + ['in']*len(in_distances), \n",
    "            template = 'none'\n",
    "            )"
   ]
  }
 ],
 "metadata": {
  "kernelspec": {
   "display_name": "env_nlp",
   "language": "python",
   "name": "python3"
  },
  "language_info": {
   "codemirror_mode": {
    "name": "ipython",
    "version": 3
   },
   "file_extension": ".py",
   "mimetype": "text/x-python",
   "name": "python",
   "nbconvert_exporter": "python",
   "pygments_lexer": "ipython3",
   "version": "3.10.8 | packaged by conda-forge | (main, Nov 22 2022, 08:26:04) [GCC 10.4.0]"
  },
  "orig_nbformat": 4,
  "vscode": {
   "interpreter": {
    "hash": "6670ed0e86a30fbcc29efc36418bab4334369c7a9631e4b406913d45ea19334a"
   }
  }
 },
 "nbformat": 4,
 "nbformat_minor": 2
}
