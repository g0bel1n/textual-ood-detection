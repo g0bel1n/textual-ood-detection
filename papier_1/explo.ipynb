{
 "cells": [
  {
   "cell_type": "markdown",
   "metadata": {},
   "source": [
    "## Setup"
   ]
  },
  {
   "cell_type": "code",
   "execution_count": 13,
   "metadata": {},
   "outputs": [],
   "source": [
    "# Import packages\n",
    "\n",
    "import numpy as np\n",
    "import torch\n",
    "import pandas as pd\n",
    "import plotly.express as px\n",
    "\n",
    "from transformers import AutoTokenizer, AutoModelForSequenceClassification, TextClassificationPipeline\n",
    "from datasets import load_dataset\n",
    "\n",
    "from tqdm.notebook import trange, tqdm\n",
    "from ipywidgets import IntProgress"
   ]
  },
  {
   "cell_type": "code",
   "execution_count": null,
   "metadata": {},
   "outputs": [],
   "source": [
    "# Import pretrained BERT finetuned on IMDB Database\n",
    "\n",
    "tokenizer = AutoTokenizer.from_pretrained(\"fabriceyhc/bert-base-uncased-imdb\")\n",
    "\n",
    "model = AutoModelForSequenceClassification.from_pretrained(\"fabriceyhc/bert-base-uncased-imdb\")"
   ]
  },
  {
   "cell_type": "code",
   "execution_count": null,
   "metadata": {},
   "outputs": [],
   "source": [
    "# Loading IMDB dataset (IN) and SST2 (OUT)\n",
    "\n",
    "dataset = load_dataset(\"imdb\")\n",
    "\n",
    "out_dataset = load_dataset(\"sst2\")"
   ]
  },
  {
   "cell_type": "code",
   "execution_count": null,
   "metadata": {},
   "outputs": [],
   "source": [
    "def label_to_bin(label):\n",
    "    if label == 'neg':\n",
    "        return 0\n",
    "    return 1\n",
    "\n",
    "def get_latent(input_data):\n",
    "    pipe = TextClassificationPipeline(\n",
    "                                    model=model, tokenizer=tokenizer\n",
    "                                    )\n",
    "    pred = pipe(input_data)[0]\n",
    "    feats = [feat_0[0], feat_1[0], feat_2[0], \n",
    "                    feat_3[0], feat_4[0], feat_5[0], \n",
    "                    feat_6[0], feat_7[0], feat_8[0], \n",
    "                    feat_9[0], feat_10[0], feat_11[0]]\n",
    "    label = label_to_bin(pred['label'])\n",
    "    softmax = pred['score']\n",
    "\n",
    "    pred_vector = torch.tensor([label, softmax])\n",
    "    latent = np.concatenate([torch.cat([feats[i][0, 0] for i in range(12)], dim = 0).numpy(), pred_vector.numpy()])\n",
    "    return latent"
   ]
  },
  {
   "cell_type": "code",
   "execution_count": null,
   "metadata": {},
   "outputs": [],
   "source": [
    "def compute_all_latent(inputs):\n",
    "    df = pd.DataFrame([get_latent(x) for x in inputs])\n",
    "    df.columns = list(range(768 * 12)) + ['pred', 'softmax_score']\n",
    "    return df.T"
   ]
  },
  {
   "cell_type": "code",
   "execution_count": null,
   "metadata": {},
   "outputs": [],
   "source": [
    "inputs = [dataset['train'][i]['text'] for i in range(2)]\n",
    "df = compute_all_latent(inputs)"
   ]
  },
  {
   "cell_type": "markdown",
   "metadata": {},
   "source": [
    "## Generate train distribution"
   ]
  },
  {
   "cell_type": "code",
   "execution_count": null,
   "metadata": {},
   "outputs": [],
   "source": [
    "# Hook functions to get latent representation of data\n",
    "\n",
    "def features_hook_0(model, inp, output):\n",
    "    global feat_0\n",
    "    feat_0 = output\n",
    "\n",
    "def features_hook_1(model, inp, output):\n",
    "    global feat_1\n",
    "    feat_1 = output\n",
    "\n",
    "def features_hook_2(model, inp, output):\n",
    "    global feat_2\n",
    "    feat_2 = output\n",
    "\n",
    "def features_hook_3(model, inp, output):\n",
    "    global feat_3\n",
    "    feat_3 = output\n",
    "\n",
    "def features_hook_4(model, inp, output):\n",
    "    global feat_4\n",
    "    feat_4 = output\n",
    "\n",
    "def features_hook_5(model, inp, output):\n",
    "    global feat_5\n",
    "    feat_5 = output\n",
    "\n",
    "def features_hook_6(model, inp, output):\n",
    "    global feat_6\n",
    "    feat_6 = output\n",
    "\n",
    "def features_hook_7(model, inp, output):\n",
    "    global feat_7\n",
    "    feat_7 = output\n",
    "\n",
    "def features_hook_8(model, inp, output):\n",
    "    global feat_8\n",
    "    feat_8 = output\n",
    "\n",
    "def features_hook_9(model, inp, output):\n",
    "    global feat_9\n",
    "    feat_9 = output\n",
    "\n",
    "def features_hook_10(model, inp, output):\n",
    "    global feat_10\n",
    "    feat_10 = output\n",
    "\n",
    "def features_hook_11(model, inp, output):\n",
    "    global feat_11\n",
    "    feat_11 = output\n",
    "\n",
    "features_hooks = [features_hook_0, features_hook_1, features_hook_2, \n",
    "                    features_hook_3, features_hook_4, features_hook_5, \n",
    "                    features_hook_6, features_hook_7, features_hook_8, \n",
    "                    features_hook_9, features_hook_10, features_hook_11]\n",
    "\n",
    "\n",
    "\n",
    "feat_hook = [model.base_model.encoder.layer[i].register_forward_hook(features_hooks[i]) for i in range(12)]"
   ]
  },
  {
   "cell_type": "code",
   "execution_count": null,
   "metadata": {},
   "outputs": [],
   "source": [
    "def get_lattent_representation(input_data, model):\n",
    "    \"\"\"aggregating latent representation to create a unique representation vector\n",
    "    \"\"\"\n",
    "    pipe = TextClassificationPipeline(\n",
    "                                model=model, tokenizer=tokenizer\n",
    "                                )\n",
    "    pipe(input_data)\n",
    "    feats = [feat_0[0], feat_1[0], feat_2[0], \n",
    "                feat_3[0], feat_4[0], feat_5[0], \n",
    "                feat_6[0], feat_7[0], feat_8[0], \n",
    "                feat_9[0], feat_10[0], feat_11[0]]\n",
    "    aggregated_features = torch.mean(torch.stack([i[0, 0, :] for i in feats]), dim= 0)\n",
    "\n",
    "    return aggregated_features\n",
    "\n",
    "###### IF THE DISTRIBUTION IS NOT COMPLETED ######\n",
    "\n",
    "# distrib =[] \n",
    "# fail = []\n",
    "# for i in tqdm(range(len(dataset['train']))):\n",
    "#     if i%100 == 0:\n",
    "#         print(i)\n",
    "#     try:\n",
    "#         distrib.append(get_lattent_representation(dataset['train'][i]['text'], model))\n",
    "#     except:\n",
    "#         fail.append(i)\n",
    "\n",
    "# def process_distrib(distrib):\n",
    "#     return np.vstack([distrib[i].numpy().flatten() for i in range(len(distrib))])\n",
    "\n",
    "# distrib = process_distrib(distrib)\n",
    "# pd.DataFrame(distrib).to_csv('distrib_.csv', index = False)\n",
    "\n",
    "\n",
    "\n",
    "\n",
    "###### IF THE DISTRIBUTION IS ALREADY COMPLETED ######\n",
    "\n",
    "\n",
    "distrib = np.array(pd.read_csv('distrib_first.csv'))\n",
    "# distrib = distrib[:, 1:]\n",
    "assert distrib.shape[1] == 768 # checking the shape : vectors must have a 768 size"
   ]
  },
  {
   "cell_type": "code",
   "execution_count": null,
   "metadata": {},
   "outputs": [],
   "source": [
    "def get_logits(input_data, model):\n",
    "    pipe = TextClassificationPipeline(\n",
    "                                model=model, tokenizer=tokenizer\n",
    "                                )\n",
    "    res = pipe(input_data)\n",
    "    return res[0]['score']\n"
   ]
  },
  {
   "cell_type": "code",
   "execution_count": null,
   "metadata": {},
   "outputs": [],
   "source": [
    "def get_lattent_last_layer(input_data, model):\n",
    "    pipe = TextClassificationPipeline(\n",
    "                            model=model, tokenizer=tokenizer\n",
    "                                )\n",
    "    pipe(input_data)\n",
    "    feat = feat_11[0]\n",
    "\n",
    "    return feat[0][0]\n",
    "\n",
    "###### IF THE DISTRIBUTION IS NOT COMPLETED ######\n",
    "\n",
    "distrib_last_layer = [] \n",
    "fail = []\n",
    "for i in tqdm(range(len(dataset['train']))):\n",
    "    if i%100 == 0:\n",
    "        print(i)\n",
    "    try:\n",
    "        distrib_last_layer.append(get_lattent_last_layer(dataset['train'][i]['text'], model))\n",
    "    except:\n",
    "        print(i)\n",
    "        fail.append(i)\n",
    "\n",
    "def process_distrib(distrib):\n",
    "    return np.vstack([distrib[i].numpy().flatten() for i in range(len(distrib))])\n",
    "\n",
    "distrib_last_layer = process_distrib(distrib_last_layer)\n",
    "pd.DataFrame(distrib_last_layer).to_csv('distrib_last_layer.csv', index = False)\n",
    "\n",
    "\n",
    "\n",
    "\n",
    "###### IF THE DISTRIBUTION IS ALREADY COMPLETED ######\n",
    "\n",
    "\n",
    "distrib_last_layer = np.array(pd.read_csv('distrib_last_layer.csv'))\n",
    "# distrib = distrib[:, 1:]\n",
    "assert distrib.shape[1] == 768 # checking the shape : vectors must have a 768 size"
   ]
  },
  {
   "cell_type": "markdown",
   "metadata": {},
   "source": [
    "## Distance functions"
   ]
  },
  {
   "cell_type": "code",
   "execution_count": null,
   "metadata": {},
   "outputs": [],
   "source": [
    "# computing variables for Mahalanobis score\n",
    "\n",
    "cov_matrix = np.cov(distrib.T)\n",
    "precision_matrix = np.linalg.inv(cov_matrix)\n",
    "esperance_vector = np.mean(distrib, axis = 0)\n",
    "\n",
    "def D_M(x, esperance = esperance, precision = precision_mat):\n",
    "    \"\"\"Mahalanobis distance\n",
    "    \"\"\"\n",
    "    v = x - esperance\n",
    "    u = 1 + (v.T @ precision @ v)\n",
    "    return -1 / u"
   ]
  },
  {
   "cell_type": "code",
   "execution_count": null,
   "metadata": {},
   "outputs": [],
   "source": [
    "def MSP(x):\n",
    "    \"\"\"Max softmax proba\n",
    "    x is the max logits value\n",
    "    \"\"\"\n",
    "    return 1 - x"
   ]
  },
  {
   "cell_type": "code",
   "execution_count": null,
   "metadata": {},
   "outputs": [],
   "source": [
    "# Last layer mahalanobis score\n",
    "\n",
    "cov_matrix = np.cov(distrib.T)\n",
    "precision_matrix = np.linalg.inv(cov_matrix)\n",
    "esperance_vector = np.mean(distrib, axis = 0)\n",
    "\n",
    "def D_M(x, esperance = esperance, precision = precision_mat):\n",
    "    \"\"\"Mahalanobis distance\n",
    "    \"\"\"\n",
    "    v = x - esperance\n",
    "    u = 1 + (v.T @ precision @ v)\n",
    "    return -1 / u"
   ]
  },
  {
   "cell_type": "markdown",
   "metadata": {},
   "source": [
    "## Computing In and Out distances "
   ]
  },
  {
   "cell_type": "code",
   "execution_count": null,
   "metadata": {},
   "outputs": [],
   "source": [
    "N = min([len(out_dataset['test']), len(dataset['test'])])"
   ]
  },
  {
   "cell_type": "code",
   "execution_count": null,
   "metadata": {},
   "outputs": [],
   "source": [
    "N = 10"
   ]
  },
  {
   "cell_type": "code",
   "execution_count": null,
   "metadata": {},
   "outputs": [],
   "source": [
    "distances = {\n",
    "            'maha' : {'in' : [], 'out' : []},\n",
    "            'MSP' : {'in' : [], 'out' : []},\n",
    "            }\n",
    "\n",
    "for i in tqdm(range(N)):\n",
    "    input_data = out_dataset['test'][i]['sentence']\n",
    "\n",
    "    x = get_lattent_representation(input_data, model)\n",
    "    distances['maha']['out'].append(D_M(x.numpy()))\n",
    "\n",
    "    logit = get_logits(input_data, model)\n",
    "    distances['MSP']['out'].append(MSP(logit))\n",
    "\n",
    "for i in tqdm(range(N)):\n",
    "    try:\n",
    "        input_data = dataset['test'][i]['text']\n",
    "\n",
    "        x = get_lattent_representation(input_data, model)\n",
    "        distances['maha']['in'].append(D_M(x.numpy()))\n",
    "\n",
    "        logit = get_logits(input_data, model)\n",
    "        distances['MSP']['in'].append(MSP(logit))\n",
    "\n",
    "    except:\n",
    "        pass"
   ]
  },
  {
   "cell_type": "markdown",
   "metadata": {},
   "source": [
    "## Results"
   ]
  },
  {
   "cell_type": "code",
   "execution_count": null,
   "metadata": {},
   "outputs": [],
   "source": [
    "px.histogram(\n",
    "            distances['maha']['out'] + distances['maha']['in'], \n",
    "            color = ['out'] * len(distances['maha']['out']) + ['in'] * len(distances['maha']['in']), \n",
    "            template = 'none'\n",
    "            )"
   ]
  },
  {
   "cell_type": "code",
   "execution_count": null,
   "metadata": {},
   "outputs": [],
   "source": [
    "def error(in_distances, out_distances, threshold):\n",
    "    v = np.sum([i >= threshold for i in in_distances]) + np.sum([i < threshold for i in out_distances])\n",
    "    return v / (len(out_distances) + len(in_distances))\n",
    "\n",
    "def compute_best_threshold(in_distances, out_distances, n_candidates = 1000):\n",
    "\n",
    "    candidates = np.linspace(min(in_distances), max(out_distances), n_candidates)\n",
    "\n",
    "    errors = [error(in_distances, out_distances, i) for i in candidates]\n",
    "    best_index = np.argmin(errors)\n",
    "    return (candidates[best_index], errors[best_index])\n"
   ]
  },
  {
   "cell_type": "code",
   "execution_count": null,
   "metadata": {},
   "outputs": [],
   "source": [
    "compute_best_threshold(distances['maha']['in'], distances['maha']['out'])"
   ]
  },
  {
   "cell_type": "code",
   "execution_count": null,
   "metadata": {},
   "outputs": [],
   "source": [
    "compute_best_threshold(distances['MSP']['in'], distances['MSP']['out'])"
   ]
  },
  {
   "cell_type": "markdown",
   "metadata": {},
   "source": [
    "## Some tries"
   ]
  },
  {
   "cell_type": "code",
   "execution_count": null,
   "metadata": {},
   "outputs": [],
   "source": [
    "def generate_sphere_point(ndim):\n",
    "    vec = np.random.randn(ndim)\n",
    "    vec /= np.linalg.norm(vec, axis=0)\n",
    "    return vec\n",
    "\n",
    "def compute_minimum_value(x, distrib, u_k):\n",
    "    positive_rate = np.mean(np.array([np.dot(u_k, distrib[i] - x) for i in range(len(distrib))]) > 0)\n",
    "    return min(positive_rate, 1 - positive_rate)\n",
    "\n",
    "def D(x, distrib, n_proj = 10):\n",
    "    u = [generate_sphere_point(x.shape[0]) for _ in range(n_proj)]\n",
    "    vector_of_minimums = [compute_minimum_value(x, distrib, u_k) for u_k in u]\n",
    "    return np.mean(vector_of_minimums)"
   ]
  },
  {
   "cell_type": "code",
   "execution_count": null,
   "metadata": {},
   "outputs": [],
   "source": [
    "def D_(x, distrib, n_proj = 100):\n",
    "    u = [generate_sphere_point(x.shape[0]) for _ in range(n_proj)]\n",
    "    vector_of_minimums = [compute_minimum_value(x, distrib, u_k) for u_k in u]\n",
    "    return (vector_of_minimums)\n",
    "\n",
    "x = np.random.random(distrib[0].shape)\n",
    "a = D_(x, distrib, 1000)\n",
    "\n",
    "px.line([np.mean(a[:i]) for i in range(1, len(a))], template = 'none')"
   ]
  }
 ],
 "metadata": {
  "kernelspec": {
   "display_name": "env_nlp",
   "language": "python",
   "name": "python3"
  },
  "language_info": {
   "codemirror_mode": {
    "name": "ipython",
    "version": 3
   },
   "file_extension": ".py",
   "mimetype": "text/x-python",
   "name": "python",
   "nbconvert_exporter": "python",
   "pygments_lexer": "ipython3",
   "version": "3.10.8"
  },
  "orig_nbformat": 4,
  "vscode": {
   "interpreter": {
    "hash": "6670ed0e86a30fbcc29efc36418bab4334369c7a9631e4b406913d45ea19334a"
   }
  }
 },
 "nbformat": 4,
 "nbformat_minor": 2
}
