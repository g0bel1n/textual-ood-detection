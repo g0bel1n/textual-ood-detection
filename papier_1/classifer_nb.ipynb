{
 "cells": [
  {
   "cell_type": "code",
   "execution_count": 4,
   "metadata": {},
   "outputs": [
    {
     "name": "stdout",
     "output_type": "stream",
     "text": [
      "Collecting pot\n",
      "  Downloading POT-0.8.2-cp310-cp310-manylinux_2_12_x86_64.manylinux2010_x86_64.whl (671 kB)\n",
      "\u001b[2K     \u001b[90m━━━━━━━━━━━━━━━━━━━━━━━━━━━━━━━━━━━━━━━\u001b[0m \u001b[32m671.1/671.1 kB\u001b[0m \u001b[31m8.3 MB/s\u001b[0m eta \u001b[36m0:00:00\u001b[0m00:01\u001b[0m00:01\u001b[0m\n",
      "\u001b[?25hRequirement already satisfied: scipy>=1.0 in /opt/mamba/lib/python3.10/site-packages (from pot) (1.10.0)\n",
      "Requirement already satisfied: numpy>=1.16 in /opt/mamba/lib/python3.10/site-packages (from pot) (1.23.5)\n",
      "Installing collected packages: pot\n",
      "Successfully installed pot-0.8.2\n"
     ]
    }
   ],
   "source": [
    "!pip install pot"
   ]
  },
  {
   "cell_type": "code",
   "execution_count": 5,
   "metadata": {},
   "outputs": [],
   "source": [
    "\n",
    "import numpy as np\n",
    "import pandas as pd\n",
    "import os\n",
    "\n",
    "import pickle\n",
    "import torch\n",
    "from aiirw import AI_IRW\n",
    "import matplotlib.pyplot as plt\n",
    "from _ood_classifier import OODDetector\n",
    "\n",
    "import seaborn as sns\n",
    "sns.set_style('white')"
   ]
  },
  {
   "cell_type": "code",
   "execution_count": 6,
   "metadata": {},
   "outputs": [],
   "source": [
    "with open('embeddings_imbd_train.pkl', 'rb') as f:\n",
    "    embd_train = pickle.load(f)\n",
    "\n",
    "with open('logits_imdb_train.pkl', 'rb') as f:\n",
    "    logit_train = pickle.load(f)\n",
    "\n",
    "with open('attns_imdb_train.pkl', 'rb') as f:\n",
    "    attn_train = pickle.load(f)"
   ]
  },
  {
   "cell_type": "code",
   "execution_count": 7,
   "metadata": {},
   "outputs": [],
   "source": [
    "embd_ood = []\n",
    "for fn in [el for el in os.listdir() if el.startswith('embeddings_ood_')]:\n",
    "    with open(fn, 'rb') as f:\n",
    "        embd_ = pickle.load(f)\n",
    "    embd_ood += embd_\n",
    "\n",
    "logit_ood = []\n",
    "for fn in [el for el in os.listdir() if el.startswith('logits_ood_')]:\n",
    "    with open(fn, 'rb') as f:\n",
    "        logit_ = pickle.load(f)\n",
    "    logit_ood += logit_\n",
    "\n",
    "attn_ood = []\n",
    "for fn in [el for el in os.listdir() if el.startswith('attns_ood_')]:\n",
    "    with open(fn, 'rb') as f:\n",
    "        attn_ = pickle.load(f)\n",
    "    attn_ood += attn_\n",
    "\n"
   ]
  },
  {
   "cell_type": "code",
   "execution_count": 8,
   "metadata": {},
   "outputs": [],
   "source": [
    "with open('embeddings_imdb_test.pkl', 'rb') as f:\n",
    "    embd_test = pickle.load(f)\n",
    "\n",
    "with open('logits_imdb_test.pkl', 'rb') as f:\n",
    "    logit_test = pickle.load(f)\n",
    "\n",
    "with open('attns_imdb_test.pkl', 'rb') as f:\n",
    "    attn_test = pickle.load(f)"
   ]
  },
  {
   "cell_type": "code",
   "execution_count": 9,
   "metadata": {},
   "outputs": [],
   "source": [
    "logit_train = torch.cat(logit_train).numpy()\n",
    "attn_train = torch.cat(attn_train).numpy()\n",
    "embd_train = torch.cat(embd_train).numpy()\n",
    "\n",
    "embd_train_distrib  = {l: embd_train[np.where(np.argmax(logit_train, axis=-1)==l)] for l in range(logit_train.shape[1])}\n",
    "attn_train_distrib  = {l: attn_train[np.where(np.argmax(logit_train, axis=-1)==l)] for l in range(logit_train.shape[1])}"
   ]
  },
  {
   "cell_type": "code",
   "execution_count": 10,
   "metadata": {},
   "outputs": [],
   "source": [
    "logit_test = torch.cat(logit_test).numpy()\n",
    "embd_test = torch.cat(embd_test).numpy()\n",
    "attn_test = torch.cat(attn_test).numpy()\n",
    "\n",
    "\n",
    "embd_test_distrib  = {l: embd_test[np.where(np.argmax(logit_test, axis=-1)==l)] for l in range(logit_test.shape[1])}\n",
    "attn_test_distrib  = {l: attn_test[np.where(np.argmax(logit_test, axis=-1)==l)] for l in range(logit_test.shape[1])}\n",
    "\n"
   ]
  },
  {
   "cell_type": "code",
   "execution_count": 11,
   "metadata": {},
   "outputs": [],
   "source": [
    "logit_ood = torch.cat(logit_ood).numpy()\n",
    "embd_ood = torch.cat(embd_ood).numpy()\n",
    "attn_ood = torch.cat(attn_ood).numpy()\n",
    "\n",
    "embd_ood_distrib  = {l: embd_ood[np.where(np.argmax(logit_ood, axis=-1)==l)] for l in range(logit_ood.shape[1])}\n",
    "attn_ood_distrib  = {l: attn_ood[np.where(np.argmax(logit_ood, axis=-1)==l)] for l in range(logit_ood.shape[1])}\n",
    "\n"
   ]
  },
  {
   "cell_type": "code",
   "execution_count": 72,
   "metadata": {},
   "outputs": [],
   "source": [
    "X_0_embd =  np.concatenate((embd_ood_distrib[0], embd_test_distrib[0]))\n",
    "X_0_attn =  np.concatenate((attn_ood_distrib[0], attn_test_distrib[0]))\n",
    "y_0 =   np.concatenate((np.ones((embd_ood_distrib[0].shape[0])), np.zeros((embd_test_distrib[0].shape[0]))))\n",
    "\n",
    "X_1_embd =  np.concatenate((embd_ood_distrib[1], embd_test_distrib[1]))\n",
    "X_1_attn =  np.concatenate((attn_ood_distrib[1], attn_test_distrib[1]))\n",
    "y_1 =   np.concatenate((np.ones((embd_ood_distrib[1].shape[0])), np.zeros((embd_test_distrib[1].shape[0]))))\n",
    "\n",
    "X_embd = np.concatenate((logit_ood, logit_test))\n",
    "X_attn = np.concatenate((attn_ood, attn_test))\n",
    "y_ = np.concatenate((np.ones(logit_ood.shape[0]), np.zeros(logit_test.shape[0])))"
   ]
  },
  {
   "cell_type": "code",
   "execution_count": 40,
   "metadata": {},
   "outputs": [],
   "source": [
    "#import random search from sklearn\n",
    "from sklearn.model_selection import RandomizedSearchCV\n",
    "#import shuffle from sklearn\n",
    "from sklearn.utils import shuffle\n",
    "\n",
    "X_0, y_0 = shuffle(X_0, y_0)\n",
    "X_1, y_1 = shuffle(X_1, y_1)\n",
    "X_, y_ = shuffle(X_, y_)\n",
    "\n",
    "# Create the parameter grid based on the results of random search, tau follows a gaussian centered in 50 with std 10\n",
    "param_grid = {\n",
    "    'tau': np.random.uniform(-150, 0, 100), \n",
    "    'similarity': ['mahalanobis'],\n",
    "    'base_distribution' : [train_distrib[0]]\n",
    "}\n",
    "\n",
    "# Create a based model\n",
    "clf = OODDetector(similarity='mahalanobis', tau=50, base_distribution=train_distrib[0])\n",
    "\n",
    "# Instantiate the grid search model\n",
    "grid_search = RandomizedSearchCV(estimator = clf, param_distributions = param_grid,\n",
    "                            cv = 5, n_jobs = -1, verbose = 0, scoring='balanced_accuracy')\n"
   ]
  },
  {
   "cell_type": "code",
   "execution_count": 41,
   "metadata": {},
   "outputs": [
    {
     "name": "stdout",
     "output_type": "stream",
     "text": [
      "{'tau': -53.24070283187717, 'similarity': 'mahalanobis', 'base_distribution': array([[ 0.1655158 ,  0.19259338, -0.05701194, ..., -0.04087529,\n",
      "         0.06450007,  0.27201617],\n",
      "       [ 0.26176506,  0.13326405,  0.04254614, ..., -0.02392149,\n",
      "         0.06750306,  0.20914446],\n",
      "       [ 0.16050506, -0.07738341,  0.21776502, ..., -0.1432903 ,\n",
      "        -0.04918719, -0.1345499 ],\n",
      "       ...,\n",
      "       [-0.07087212, -0.27570873,  0.08874413, ..., -0.14185995,\n",
      "        -0.05530067, -0.18070912],\n",
      "       [-0.13870718, -0.08804137, -0.18017988, ..., -0.1654126 ,\n",
      "        -0.06333739, -0.11101169],\n",
      "       [ 0.00867541, -0.23554574,  0.14202845, ..., -0.29557773,\n",
      "        -0.16673136, -0.346024  ]], dtype=float32)}\n"
     ]
    }
   ],
   "source": [
    "grid_search.fit(X_0, y_0)\n",
    "print(grid_search.best_params_)"
   ]
  },
  {
   "cell_type": "code",
   "execution_count": 17,
   "metadata": {},
   "outputs": [
    {
     "data": {
      "text/plain": [
       "0.9770796974985456"
      ]
     },
     "execution_count": 17,
     "metadata": {},
     "output_type": "execute_result"
    }
   ],
   "source": [
    "grid_search.best_score_"
   ]
  },
  {
   "cell_type": "code",
   "execution_count": 57,
   "metadata": {},
   "outputs": [],
   "source": [
    " clf = OODDetector(similarity='mahalanobis', tau=1, base_distribution=train_distrib[1]).fit()"
   ]
  },
  {
   "cell_type": "code",
   "execution_count": 21,
   "metadata": {},
   "outputs": [],
   "source": [
    "from sklearn.metrics import roc_auc_score"
   ]
  },
  {
   "cell_type": "code",
   "execution_count": 58,
   "metadata": {},
   "outputs": [
    {
     "data": {
      "text/plain": [
       "0.998754787634665"
      ]
     },
     "execution_count": 58,
     "metadata": {},
     "output_type": "execute_result"
    }
   ],
   "source": [
    "roc_auc_score(y_1, np.abs(clf.predict_proba(X_1)))"
   ]
  },
  {
   "cell_type": "code",
   "execution_count": 25,
   "metadata": {},
   "outputs": [
    {
     "data": {
      "text/plain": [
       "array([-43.64105068, -16.59505697, -19.85955733, ..., -41.28905296,\n",
       "       -52.61064528, -20.90586548])"
      ]
     },
     "execution_count": 25,
     "metadata": {},
     "output_type": "execute_result"
    }
   ],
   "source": [
    "clf.predict_proba(X_0)"
   ]
  },
  {
   "cell_type": "code",
   "execution_count": 13,
   "metadata": {},
   "outputs": [
    {
     "data": {
      "text/plain": [
       "(array([  1.,   3.,   5.,  26.,  35.,  85., 226., 387., 309.,  70.]),\n",
       " array([-145.64682839, -136.75579608, -127.86476376, -118.97373145,\n",
       "        -110.08269913, -101.19166682,  -92.3006345 ,  -83.40960219,\n",
       "         -74.51856987,  -65.62753756,  -56.73650524]),\n",
       " <BarContainer object of 10 artists>)"
      ]
     },
     "execution_count": 13,
     "metadata": {},
     "output_type": "execute_result"
    },
    {
     "data": {
      "image/png": "[encoded data removed]",
      "text/plain": [
       "<Figure size 640x480 with 1 Axes>"
      ]
     },
     "metadata": {},
     "output_type": "display_data"
    }
   ],
   "source": [
    "plt.hist(clf._compute_sim(ood_distrib[0]))"
   ]
  },
  {
   "cell_type": "code",
   "execution_count": 14,
   "metadata": {},
   "outputs": [
    {
     "data": {
      "text/plain": [
       "(array([1.000e+00, 0.000e+00, 0.000e+00, 0.000e+00, 0.000e+00, 3.000e+00,\n",
       "        8.400e+01, 1.228e+03, 6.778e+03, 9.096e+03]),\n",
       " array([-160.78633755, -145.94475275, -131.10316796, -116.26158316,\n",
       "        -101.41999837,  -86.57841357,  -71.73682877,  -56.89524398,\n",
       "         -42.05365918,  -27.21207439,  -12.37048959]),\n",
       " <BarContainer object of 10 artists>)"
      ]
     },
     "execution_count": 14,
     "metadata": {},
     "output_type": "execute_result"
    },
    {
     "data": {
      "image/png": "[encoded data removed]",
      "text/plain": [
       "<Figure size 640x480 with 1 Axes>"
      ]
     },
     "metadata": {},
     "output_type": "display_data"
    }
   ],
   "source": [
    "plt.hist(clf._compute_sim(test_distrib[0]))"
   ]
  },
  {
   "cell_type": "code",
   "execution_count": 73,
   "metadata": {},
   "outputs": [
    {
     "ename": "AssertionError",
     "evalue": "Similarity is not available",
     "output_type": "error",
     "traceback": [
      "\u001b[0;31m---------------------------------------------------------------------------\u001b[0m",
      "\u001b[0;31mAssertionError\u001b[0m                            Traceback (most recent call last)",
      "Cell \u001b[0;32mIn[73], line 1\u001b[0m\n\u001b[0;32m----> 1\u001b[0m clf \u001b[39m=\u001b[39m OODDetector(tau\u001b[39m=\u001b[39;49m\u001b[39m1\u001b[39;49m, similarity\u001b[39m=\u001b[39;49m\u001b[39m'\u001b[39;49m\u001b[39mwass2unif\u001b[39;49m\u001b[39m'\u001b[39;49m)\n",
      "File \u001b[0;32m~/work/nlp_ood_detection/papier_1/_ood_classifier.py:61\u001b[0m, in \u001b[0;36m__init__\u001b[0;34m(self, tau, base_distribution, similarity, T)\u001b[0m\n\u001b[1;32m     53\u001b[0m \u001b[39mdef\u001b[39;00m \u001b[39m__init__\u001b[39m(\n\u001b[1;32m     54\u001b[0m     \u001b[39mself\u001b[39m,\n\u001b[1;32m     55\u001b[0m     tau: \u001b[39mfloat\u001b[39m,\n\u001b[0;32m   (...)\u001b[0m\n\u001b[1;32m     59\u001b[0m     k: \u001b[39mint\u001b[39m \u001b[39m=\u001b[39m \u001b[39m10\u001b[39m,\n\u001b[1;32m     60\u001b[0m ):\n\u001b[0;32m---> 61\u001b[0m     \u001b[39msuper\u001b[39m()\u001b[39m.\u001b[39m\u001b[39m__init__\u001b[39m()\n\u001b[1;32m     63\u001b[0m     \u001b[39massert\u001b[39;00m similarity \u001b[39min\u001b[39;00m [\n\u001b[1;32m     64\u001b[0m         \u001b[39m\"\u001b[39m\u001b[39mmahalanobis\u001b[39m\u001b[39m\"\u001b[39m,\n\u001b[1;32m     65\u001b[0m         \u001b[39m\"\u001b[39m\u001b[39mIRW\u001b[39m\u001b[39m\"\u001b[39m,\n\u001b[0;32m   (...)\u001b[0m\n\u001b[1;32m     69\u001b[0m         \u001b[39m\"\u001b[39m\u001b[39mwass2data\u001b[39m\u001b[39m\"\u001b[39m,\n\u001b[1;32m     70\u001b[0m     ], \u001b[39m\"\u001b[39m\u001b[39mSimilarity is not available\u001b[39m\u001b[39m\"\u001b[39m\n\u001b[1;32m     72\u001b[0m     \u001b[39mif\u001b[39;00m base_distribution \u001b[39mis\u001b[39;00m \u001b[39mNone\u001b[39;00m:\n",
      "\u001b[0;31mAssertionError\u001b[0m: Similarity is not available"
     ]
    }
   ],
   "source": [
    "clf = OODDetector(tau=1, similarity='wass2unif')"
   ]
  },
  {
   "cell_type": "code",
   "execution_count": null,
   "metadata": {},
   "outputs": [],
   "source": []
  }
 ],
 "metadata": {
  "kernelspec": {
   "display_name": "base",
   "language": "python",
   "name": "python3"
  },
  "language_info": {
   "codemirror_mode": {
    "name": "ipython",
    "version": 3
   },
   "file_extension": ".py",
   "mimetype": "text/x-python",
   "name": "python",
   "nbconvert_exporter": "python",
   "pygments_lexer": "ipython3",
   "version": "3.10.8"
  },
  "orig_nbformat": 4,
  "vscode": {
   "interpreter": {
    "hash": "3fa046f995eb80ac40c0869a1f9df46519f4ada8b8c395ef25dd1aa1a1a2fc63"
   }
  }
 },
 "nbformat": 4,
 "nbformat_minor": 2
}
