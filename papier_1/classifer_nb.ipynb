{
 "cells": [
  {
   "cell_type": "code",
   "execution_count": 76,
   "metadata": {},
   "outputs": [],
   "source": [
    "\n",
    "import numpy as np\n",
    "import pandas as pd\n",
    "import os\n",
    "\n",
    "import pickle\n",
    "import torch\n",
    "from aiirw import AI_IRW\n",
    "import matplotlib.pyplot as plt\n",
    "from _ood_classifier import OODDetector\n",
    "\n",
    "import seaborn as sns\n",
    "\n",
    "#import random search from sklearn\n",
    "from sklearn.model_selection import RandomizedSearchCV\n",
    "#import shuffle from sklearn\n",
    "from sklearn.utils import shuffle\n",
    "sns.set_style('white')\n",
    "from sklearn.metrics import roc_auc_score, average_precision_score"
   ]
  },
  {
   "cell_type": "code",
   "execution_count": 55,
   "metadata": {},
   "outputs": [],
   "source": [
    "with open('embeddings_imbd_train.pkl', 'rb') as f:\n",
    "    embd_train = pickle.load(f)\n",
    "\n",
    "with open('logits_imdb_train.pkl', 'rb') as f:\n",
    "    logit_train = pickle.load(f)\n",
    "\n",
    "with open('attns_imdb_train.pkl', 'rb') as f:\n",
    "    attn_train = pickle.load(f)"
   ]
  },
  {
   "cell_type": "code",
   "execution_count": 56,
   "metadata": {},
   "outputs": [],
   "source": [
    "embd_ood = []\n",
    "logit_ood = []\n",
    "attn_ood = []\n",
    "ood_dict = {}\n",
    "\n",
    "for fn in [el for el in os.listdir() if el.startswith('embeddings_ood_test_')]:\n",
    "\n",
    "    _name = fn.split('_')[-1].split('.')[0]\n",
    "    _vars = {}\n",
    "\n",
    "    with open(fn, 'rb') as f:\n",
    "        _embd = pickle.load(f)\n",
    "    embd_ood += _embd\n",
    "\n",
    "    _vars['embd'] = _embd\n",
    "\n",
    "    with open(f\"logits_ood_test_{_name}.pkl\", 'rb') as f:\n",
    "        _logit = pickle.load(f)\n",
    "    logit_ood += _logit\n",
    "\n",
    "    _vars['logit'] = _logit\n",
    "\n",
    "    with open(f\"attns_ood_test_{_name}.pkl\", 'rb') as f:\n",
    "        _attn = pickle.load(f)\n",
    "    attn_ood += _attn\n",
    "\n",
    "    _vars['attn'] = _attn   \n",
    "\n",
    "    ood_dict[_name] = _vars "
   ]
  },
  {
   "cell_type": "code",
   "execution_count": 57,
   "metadata": {},
   "outputs": [],
   "source": [
    "with open('embeddings_imdb_test.pkl', 'rb') as f:\n",
    "    embd_test = pickle.load(f)\n",
    "\n",
    "with open('logits_imdb_test.pkl', 'rb') as f:\n",
    "    logit_test = pickle.load(f)\n",
    "\n",
    "with open('attns_imdb_test.pkl', 'rb') as f:\n",
    "    attn_test = pickle.load(f)"
   ]
  },
  {
   "cell_type": "code",
   "execution_count": 58,
   "metadata": {},
   "outputs": [],
   "source": [
    "logit_train = torch.cat(logit_train).numpy()\n",
    "attn_train = torch.cat(attn_train).numpy()\n",
    "embd_train = torch.cat(embd_train).numpy()\n",
    "\n",
    "embd_train_distrib  = {l: embd_train[np.where(np.argmax(logit_train, axis=-1)==l)] for l in range(logit_train.shape[1])}\n",
    "attn_train_distrib  = {l: attn_train[np.where(np.argmax(logit_train, axis=-1)==l)] for l in range(logit_train.shape[1])}\n",
    "logit_train_distrib  = {l: logit_train[np.where(np.argmax(logit_train, axis=-1)==l)] for l in range(logit_train.shape[1])}"
   ]
  },
  {
   "cell_type": "code",
   "execution_count": 59,
   "metadata": {},
   "outputs": [],
   "source": [
    "logit_test = torch.cat(logit_test).numpy()\n",
    "embd_test = torch.cat(embd_test).numpy()\n",
    "attn_test = torch.cat(attn_test).numpy()\n",
    "\n",
    "\n",
    "embd_test_distrib  = {l: embd_test[np.where(np.argmax(logit_test, axis=-1)==l)] for l in range(logit_test.shape[1])}\n",
    "attn_test_distrib  = {l: attn_test[np.where(np.argmax(logit_test, axis=-1)==l)] for l in range(logit_test.shape[1])}\n",
    "logit_test_distrib  = {l: logit_test[np.where(np.argmax(logit_test, axis=-1)==l)] for l in range(logit_test.shape[1])}\n",
    "\n"
   ]
  },
  {
   "cell_type": "code",
   "execution_count": 60,
   "metadata": {},
   "outputs": [],
   "source": [
    "\n",
    "# Aggregated\n",
    "logit_ood = torch.cat(logit_ood).numpy()\n",
    "embd_ood = torch.cat(embd_ood).numpy()\n",
    "attn_ood = torch.cat(attn_ood).numpy()\n",
    "\n",
    "embd_ood_distrib  = {l: embd_ood[np.where(np.argmax(logit_ood, axis=-1)==l)] for l in range(logit_ood.shape[1])}\n",
    "attn_ood_distrib  = {l: attn_ood[np.where(np.argmax(logit_ood, axis=-1)==l)] for l in range(logit_ood.shape[1])}\n",
    "logit_ood_distrib  = {l: logit_ood[np.where(np.argmax(logit_ood, axis=-1)==l)] for l in range(logit_ood.shape[1])}\n",
    "\n",
    "\n",
    "\n",
    "#Per OOD-DS\n",
    "for el in ood_dict.values():\n",
    "    for _k, _v in el.items():\n",
    "       el[_k] = torch.cat(_v).numpy()\n",
    "        \n",
    "    el['embd_ood_distrib']  = {l: el['embd'][np.where(np.argmax(el['logit'], axis=-1)==l)] for l in range(el['logit'].shape[1])}\n",
    "    el['attn_ood_distrib']  = {l: el['attn'][np.where(np.argmax(el['logit'], axis=-1)==l)] for l in range(el['logit'].shape[1])}\n",
    "    el['logit_ood_distrib']  = {l: el['logit'][np.where(np.argmax(el['logit'], axis=-1)==l)] for l in range(el['logit'].shape[1])}\n",
    "\n",
    "    \n",
    "\n",
    "\n"
   ]
  },
  {
   "cell_type": "code",
   "execution_count": 9,
   "metadata": {},
   "outputs": [],
   "source": [
    "X_0_embd =  np.concatenate((embd_ood_distrib[0], embd_test_distrib[0]))\n",
    "X_0_attn =  np.concatenate((attn_ood_distrib[0], attn_test_distrib[0]))\n",
    "y_0 =   np.concatenate((np.ones((embd_ood_distrib[0].shape[0])), np.zeros((embd_test_distrib[0].shape[0]))))\n",
    "\n",
    "X_1_embd =  np.concatenate((embd_ood_distrib[1], embd_test_distrib[1]))\n",
    "X_1_attn =  np.concatenate((attn_ood_distrib[1], attn_test_distrib[1]))\n",
    "y_1 =   np.concatenate((np.ones((embd_ood_distrib[1].shape[0])), np.zeros((embd_test_distrib[1].shape[0]))))\n",
    "\n",
    "X_embd = np.concatenate((logit_ood, logit_test))\n",
    "X_attn = np.concatenate((attn_ood, attn_test))\n",
    "y_ = np.concatenate((np.ones(logit_ood.shape[0]), np.zeros(logit_test.shape[0])))"
   ]
  },
  {
   "cell_type": "code",
   "execution_count": 86,
   "metadata": {},
   "outputs": [
    {
     "ename": "IndexError",
     "evalue": "too many indices for array: array is 1-dimensional, but 2 were indexed",
     "output_type": "error",
     "traceback": [
      "\u001b[0;31m---------------------------------------------------------------------------\u001b[0m",
      "\u001b[0;31mIndexError\u001b[0m                                Traceback (most recent call last)",
      "Cell \u001b[0;32mIn[86], line 14\u001b[0m\n\u001b[1;32m     12\u001b[0m y_score \u001b[39m=\u001b[39m clf\u001b[39m.\u001b[39mpredict_proba(X)\n\u001b[1;32m     13\u001b[0m bins_width \u001b[39m=\u001b[39m (np\u001b[39m.\u001b[39mhistogram(y_score[y_true\u001b[39m==\u001b[39m\u001b[39m1\u001b[39m])[\u001b[39m1\u001b[39m][\u001b[39m3\u001b[39m]\u001b[39m-\u001b[39mnp\u001b[39m.\u001b[39mhistogram(y_score[y_true\u001b[39m==\u001b[39m\u001b[39m1\u001b[39m])[\u001b[39m1\u001b[39m][\u001b[39m2\u001b[39m])\u001b[39m/\u001b[39m\u001b[39m2\u001b[39m \u001b[39mif\u001b[39;00m i \u001b[39m==\u001b[39m \u001b[39m0\u001b[39m \u001b[39melse\u001b[39;00m bins_width\n\u001b[0;32m---> 14\u001b[0m sns\u001b[39m.\u001b[39mhistplot(y_score[y_true\u001b[39m==\u001b[39;49m\u001b[39m1\u001b[39;49m][:,\u001b[39m0\u001b[39;49m], label\u001b[39m=\u001b[39m\u001b[39m'\u001b[39m\u001b[39mIN-DS\u001b[39m\u001b[39m'\u001b[39m, kde\u001b[39m=\u001b[39m\u001b[39mTrue\u001b[39;00m, stat\u001b[39m=\u001b[39m\u001b[39m'\u001b[39m\u001b[39mprobability\u001b[39m\u001b[39m'\u001b[39m, color\u001b[39m=\u001b[39m\u001b[39m'\u001b[39m\u001b[39mskyblue\u001b[39m\u001b[39m'\u001b[39m, binwidth\u001b[39m=\u001b[39mbins_width, line_kws\u001b[39m=\u001b[39m{\u001b[39m\"\u001b[39m\u001b[39mlw\u001b[39m\u001b[39m\"\u001b[39m:\u001b[39m3\u001b[39m}, ax\u001b[39m=\u001b[39maxes[i])\n\u001b[1;32m     15\u001b[0m sns\u001b[39m.\u001b[39mhistplot(y_score[y_true\u001b[39m==\u001b[39m\u001b[39m0\u001b[39m][:,\u001b[39m0\u001b[39m], label\u001b[39m=\u001b[39m\u001b[39m'\u001b[39m\u001b[39mOOD-DS\u001b[39m\u001b[39m'\u001b[39m, kde\u001b[39m=\u001b[39m\u001b[39mTrue\u001b[39;00m, stat\u001b[39m=\u001b[39m\u001b[39m'\u001b[39m\u001b[39mprobability\u001b[39m\u001b[39m'\u001b[39m, color\u001b[39m=\u001b[39m\u001b[39m'\u001b[39m\u001b[39mred\u001b[39m\u001b[39m'\u001b[39m, binwidth\u001b[39m=\u001b[39mbins_width, line_kws\u001b[39m=\u001b[39m{\u001b[39m\"\u001b[39m\u001b[39mlw\u001b[39m\u001b[39m\"\u001b[39m:\u001b[39m3\u001b[39m}, ax\u001b[39m=\u001b[39maxes[i])\n\u001b[1;32m     16\u001b[0m auc_score \u001b[39m=\u001b[39m roc_auc_score(y_true\u001b[39m=\u001b[39my_true, y_score\u001b[39m=\u001b[39my_score)\n",
      "\u001b[0;31mIndexError\u001b[0m: too many indices for array: array is 1-dimensional, but 2 were indexed"
     ]
    },
    {
     "data": {
      "image/png": "[encoded data removed]",
      "text/plain": [
       "<Figure size 640x480 with 2 Axes>"
      ]
     },
     "metadata": {},
     "output_type": "display_data"
    }
   ],
   "source": [
    "clfs = {i: OODDetector(similarity='IRW', base_distribution=embd_train_distrib[i], T=10).fit() for i in [0,1]\n",
    "}\n",
    "scores=[]\n",
    "for ds_n,ood_ds in ood_dict.items():\n",
    "    fig, axes = plt.subplots(1,2)\n",
    "    for i in [0,1]:\n",
    "        clf = clfs[i]\n",
    "        y_true = np.concatenate((np.zeros(ood_ds['embd_ood_distrib'][i].shape[0]), np.ones(embd_test_distrib[i].shape[0])))\n",
    "        X = np.concatenate((ood_ds['embd_ood_distrib'][i] ,embd_test_distrib[i]))\n",
    "        #X, y_true = shuffle(X, y_true)\n",
    "        \n",
    "        y_score = clf.predict_proba(X)\n",
    "        bins_width = (np.histogram(y_score[y_true==1])[1][3]-np.histogram(y_score[y_true==1])[1][2])/2 if i == 0 else bins_width\n",
    "        sns.histplot(y_score[y_true==1][:,0], label='IN-DS', kde=True, stat='probability', color='skyblue', binwidth=bins_width, line_kws={\"lw\":3}, ax=axes[i])\n",
    "        sns.histplot(y_score[y_true==0][:,0], label='OOD-DS', kde=True, stat='probability', color='red', binwidth=bins_width, line_kws={\"lw\":3}, ax=axes[i])\n",
    "        auc_score = roc_auc_score(y_true=y_true, y_score=y_score)\n",
    "        aupr = average_precision_score(y_true=y_true, y_score=y_score)\n",
    "        scores.append([auc_score, aupr])\n",
    "        axes[i].set_title(\"$\\hat{y}=$\" +f\"{i} \\n auroc : {scores[-1][0]:.2f}, aupr : {scores[-1][1]:.2f}\")\n",
    "        #plt.text(1,1,'$\\hat{y}=0' if i ==0 else '$\\hat{y}=1' )\n",
    "\n",
    "\n",
    "    fig.suptitle(ds_n)\n",
    "    plt.show()\n",
    "\n",
    "print(np.mean(scores, axis=0))\n",
    "    "
   ]
  },
  {
   "cell_type": "code",
   "execution_count": 78,
   "metadata": {},
   "outputs": [
    {
     "data": {
      "text/plain": [
       "(array([19279,   148,    59,    53,    47,    32,    27,    27,    23,\n",
       "           32]),\n",
       " array([3.2466650e-04, 5.0031226e-02, 9.9737786e-02, 1.4944434e-01,\n",
       "        1.9915091e-01, 2.4885747e-01, 2.9856402e-01, 3.4827060e-01,\n",
       "        3.9797714e-01, 4.4768372e-01, 4.9739027e-01], dtype=float32))"
      ]
     },
     "execution_count": 78,
     "metadata": {},
     "output_type": "execute_result"
    }
   ],
   "source": [
    "np.histogram(y_score)"
   ]
  },
  {
   "cell_type": "code",
   "execution_count": 63,
   "metadata": {},
   "outputs": [
    {
     "ename": "NameError",
     "evalue": "name 'X_0' is not defined",
     "output_type": "error",
     "traceback": [
      "\u001b[0;31m---------------------------------------------------------------------------\u001b[0m",
      "\u001b[0;31mNameError\u001b[0m                                 Traceback (most recent call last)",
      "Cell \u001b[0;32mIn[63], line 6\u001b[0m\n\u001b[1;32m      3\u001b[0m \u001b[39m#import shuffle from sklearn\u001b[39;00m\n\u001b[1;32m      4\u001b[0m \u001b[39mfrom\u001b[39;00m \u001b[39msklearn\u001b[39;00m\u001b[39m.\u001b[39;00m\u001b[39mutils\u001b[39;00m \u001b[39mimport\u001b[39;00m shuffle\n\u001b[0;32m----> 6\u001b[0m X_0, y_0 \u001b[39m=\u001b[39m shuffle(X_0, y_0)\n\u001b[1;32m      7\u001b[0m X_1, y_1 \u001b[39m=\u001b[39m shuffle(X_1, y_1)\n\u001b[1;32m      8\u001b[0m X_, y_ \u001b[39m=\u001b[39m shuffle(X_, y_)\n",
      "\u001b[0;31mNameError\u001b[0m: name 'X_0' is not defined"
     ]
    }
   ],
   "source": [
    "#import random search from sklearn\n",
    "from sklearn.model_selection import RandomizedSearchCV\n",
    "#import shuffle from sklearn\n",
    "from sklearn.utils import shuffle\n",
    "\n",
    "X_0, y_0 = shuffle(X_0, y_0)\n",
    "X_1, y_1 = shuffle(X_1, y_1)\n",
    "X_, y_ = shuffle(X_, y_)\n",
    "\n",
    "# Create the parameter grid based on the results of random search, tau follows a gaussian centered in 50 with std 10\n",
    "param_grid = {\n",
    "    'tau': np.random.uniform(-150, 0, 100), \n",
    "    'similarity': ['mahalanobis'],\n",
    "    'base_distribution' : [train_distrib[0]]\n",
    "}\n",
    "\n",
    "# Create a based model\n",
    "clf = OODDetector(similarity='mahalanobis', tau=50, base_distribution=train_distrib[0])\n",
    "\n",
    "# Instantiate the grid search model\n",
    "grid_search = RandomizedSearchCV(estimator = clf, param_distributions = param_grid,\n",
    "                            cv = 5, n_jobs = -1, verbose = 0, scoring='balanced_accuracy')\n"
   ]
  },
  {
   "cell_type": "code",
   "execution_count": 41,
   "metadata": {},
   "outputs": [
    {
     "name": "stdout",
     "output_type": "stream",
     "text": [
      "{'tau': -53.24070283187717, 'similarity': 'mahalanobis', 'base_distribution': array([[ 0.1655158 ,  0.19259338, -0.05701194, ..., -0.04087529,\n",
      "         0.06450007,  0.27201617],\n",
      "       [ 0.26176506,  0.13326405,  0.04254614, ..., -0.02392149,\n",
      "         0.06750306,  0.20914446],\n",
      "       [ 0.16050506, -0.07738341,  0.21776502, ..., -0.1432903 ,\n",
      "        -0.04918719, -0.1345499 ],\n",
      "       ...,\n",
      "       [-0.07087212, -0.27570873,  0.08874413, ..., -0.14185995,\n",
      "        -0.05530067, -0.18070912],\n",
      "       [-0.13870718, -0.08804137, -0.18017988, ..., -0.1654126 ,\n",
      "        -0.06333739, -0.11101169],\n",
      "       [ 0.00867541, -0.23554574,  0.14202845, ..., -0.29557773,\n",
      "        -0.16673136, -0.346024  ]], dtype=float32)}\n"
     ]
    }
   ],
   "source": [
    "grid_search.fit(X_0, y_0)\n",
    "print(grid_search.best_params_)"
   ]
  },
  {
   "cell_type": "code",
   "execution_count": 17,
   "metadata": {},
   "outputs": [
    {
     "data": {
      "text/plain": [
       "0.9770796974985456"
      ]
     },
     "execution_count": 17,
     "metadata": {},
     "output_type": "execute_result"
    }
   ],
   "source": [
    "grid_search.best_score_"
   ]
  },
  {
   "cell_type": "code",
   "execution_count": 18,
   "metadata": {},
   "outputs": [],
   "source": [
    " clf = OODDetector(similarity='wass2unif', tau=1).fit()"
   ]
  },
  {
   "cell_type": "code",
   "execution_count": 20,
   "metadata": {},
   "outputs": [],
   "source": []
  },
  {
   "cell_type": "code",
   "execution_count": 27,
   "metadata": {},
   "outputs": [
    {
     "data": {
      "text/plain": [
       "0.7275677363079762"
      ]
     },
     "execution_count": 27,
     "metadata": {},
     "output_type": "execute_result"
    }
   ],
   "source": [
    "roc_auc_score(y_, clf.predict_proba(X_attn))"
   ]
  },
  {
   "cell_type": "code",
   "execution_count": 24,
   "metadata": {},
   "outputs": [
    {
     "data": {
      "text/plain": [
       "array([-0.46052711, -0.46052711, -0.46052711, ..., -0.61499868,\n",
       "       -0.73865306, -0.77258298])"
      ]
     },
     "execution_count": 24,
     "metadata": {},
     "output_type": "execute_result"
    }
   ],
   "source": [
    "clf.predict_proba(X_attn)"
   ]
  },
  {
   "cell_type": "code",
   "execution_count": 21,
   "metadata": {},
   "outputs": [
    {
     "data": {
      "text/plain": [
       "(array([1057., 1144.,  776.,  610.,  391.,  282., 1319.,  240.,  282.,\n",
       "         123.]),\n",
       " array([-0.77950614, -0.73265803, -0.68580992, -0.63896181, -0.5921137 ,\n",
       "        -0.54526559, -0.49841748, -0.45156937, -0.40472126, -0.35787316,\n",
       "        -0.31102505]),\n",
       " <BarContainer object of 10 artists>)"
      ]
     },
     "execution_count": 21,
     "metadata": {},
     "output_type": "execute_result"
    },
    {
     "data": {
      "image/png": "[encoded data removed]",
      "text/plain": [
       "<Figure size 640x480 with 1 Axes>"
      ]
     },
     "metadata": {},
     "output_type": "display_data"
    }
   ],
   "source": [
    "plt.hist(clf._compute_sim(attn_ood_distrib[1]))"
   ]
  },
  {
   "cell_type": "code",
   "execution_count": 22,
   "metadata": {},
   "outputs": [
    {
     "data": {
      "text/plain": [
       "(array([5545.,  942.,  491.,  245.,  182.,  117.,   98.,   76.,   90.,\n",
       "          24.]),\n",
       " array([-0.74782239, -0.70987861, -0.67193484, -0.63399106, -0.59604729,\n",
       "        -0.55810351, -0.52015974, -0.48221596, -0.44427218, -0.40632841,\n",
       "        -0.36838463]),\n",
       " <BarContainer object of 10 artists>)"
      ]
     },
     "execution_count": 22,
     "metadata": {},
     "output_type": "execute_result"
    },
    {
     "data": {
      "image/png": "[encoded data removed]",
      "text/plain": [
       "<Figure size 640x480 with 1 Axes>"
      ]
     },
     "metadata": {},
     "output_type": "display_data"
    }
   ],
   "source": [
    "plt.hist(clf._compute_sim(attn_test_distrib[1]))"
   ]
  },
  {
   "cell_type": "code",
   "execution_count": 13,
   "metadata": {},
   "outputs": [],
   "source": []
  },
  {
   "cell_type": "code",
   "execution_count": 17,
   "metadata": {},
   "outputs": [
    {
     "data": {
      "text/plain": [
       "array([1, 1, 1, ..., 1, 1, 1])"
      ]
     },
     "execution_count": 17,
     "metadata": {},
     "output_type": "execute_result"
    }
   ],
   "source": [
    "clf.(X_0_attn)"
   ]
  },
  {
   "cell_type": "code",
   "execution_count": 38,
   "metadata": {},
   "outputs": [],
   "source": [
    "clf = OODDetector(tau=1, similarity='wass2unif',k=100,  base_distribution=attn_train_distrib[1][:1000]).fit()"
   ]
  },
  {
   "cell_type": "code",
   "execution_count": 42,
   "metadata": {},
   "outputs": [
    {
     "data": {
      "text/plain": [
       "[]"
      ]
     },
     "execution_count": 42,
     "metadata": {},
     "output_type": "execute_result"
    },
    {
     "data": {
      "image/png": "[encoded data removed]",
      "text/plain": [
       "<Figure size 640x480 with 1 Axes>"
      ]
     },
     "metadata": {},
     "output_type": "display_data"
    }
   ],
   "source": [
    "direction = 1\n",
    "bins_width = .01\n",
    "sns.histplot(clf._compute_sim(attn_test_distrib[direction]), label='IN-DS', kde=True, stat='probability', color='red', binwidth=bins_width, line_kws={\"lw\":3})\n",
    "sns.histplot(clf._compute_sim(attn_ood_distrib[direction]), label=\"OOD\", kde=True, stat='probability', binwidth=bins_width, line_kws={\"lw\":3})\n",
    "plt.legend()\n",
    "plt.title(\"Wass-to-unif\")\n",
    "plt.plot()"
   ]
  },
  {
   "cell_type": "code",
   "execution_count": 28,
   "metadata": {},
   "outputs": [],
   "source": [
    "from _ood_classifier import partial_wrapper\n",
    "from scipy.spatial.distance import cdist"
   ]
  },
  {
   "cell_type": "code",
   "execution_count": null,
   "metadata": {},
   "outputs": [],
   "source": [
    "np.mean(np.sort( partial_wrapper( cdist, XB=self.base_distribution, metric=\"cityblock\")(x),axis=-1)[:, : self.k]    )"
   ]
  },
  {
   "cell_type": "code",
   "execution_count": 29,
   "metadata": {},
   "outputs": [],
   "source": [
    "a = cdist(attn_test_distrib[0], attn_train_distrib[0][:100], metric='cityblock')"
   ]
  },
  {
   "cell_type": "code",
   "execution_count": 36,
   "metadata": {},
   "outputs": [
    {
     "data": {
      "text/plain": [
       "(17190,)"
      ]
     },
     "execution_count": 36,
     "metadata": {},
     "output_type": "execute_result"
    }
   ],
   "source": [
    "np.mean(np.sort(a, axis=-1)[:, :2], axis=-1).shape"
   ]
  },
  {
   "cell_type": "code",
   "execution_count": null,
   "metadata": {},
   "outputs": [],
   "source": []
  }
 ],
 "metadata": {
  "kernelspec": {
   "display_name": "base",
   "language": "python",
   "name": "python3"
  },
  "language_info": {
   "codemirror_mode": {
    "name": "ipython",
    "version": 3
   },
   "file_extension": ".py",
   "mimetype": "text/x-python",
   "name": "python",
   "nbconvert_exporter": "python",
   "pygments_lexer": "ipython3",
   "version": "3.10.8"
  },
  "orig_nbformat": 4,
  "vscode": {
   "interpreter": {
    "hash": "3fa046f995eb80ac40c0869a1f9df46519f4ada8b8c395ef25dd1aa1a1a2fc63"
   }
  }
 },
 "nbformat": 4,
 "nbformat_minor": 2
}
