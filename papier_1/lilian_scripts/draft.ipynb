{
 "cells": [
  {
   "cell_type": "code",
   "execution_count": 1,
   "metadata": {},
   "outputs": [],
   "source": [
    "%load_ext autoreload\n",
    "\n",
    "%autoreload 2"
   ]
  },
  {
   "cell_type": "code",
   "execution_count": 6,
   "metadata": {},
   "outputs": [],
   "source": [
    "import pandas as pd\n",
    "import numpy as np\n",
    "from tqdm import tqdm"
   ]
  },
  {
   "cell_type": "code",
   "execution_count": 3,
   "metadata": {},
   "outputs": [
    {
     "name": "stderr",
     "output_type": "stream",
     "text": [
      "763it [00:00, 6416.69it/s]\n",
      "1058it [00:00, 4793.54it/s]\n"
     ]
    }
   ],
   "source": [
    "df_train = pd.read_csv('data/out_latent.csv').T\n",
    "\n",
    "df_train_0 = df_train[df_train[9216] == 0][range(12*768)]\n",
    "df_train_1 = df_train[df_train[9216] == 1][range(12*768)]\n",
    "\n",
    "def compute_class_variables(df):\n",
    "\n",
    "    mean_vectors = []\n",
    "    for i, row in tqdm(df.iterrows()):\n",
    "        mean_vector = np.mean(np.reshape(np.array(row), (768, 12)), axis = 1)\n",
    "        mean_vectors.append(mean_vector)\n",
    "\n",
    "    X = np.array(mean_vectors)\n",
    "    cov_matrix = np.cov(X.T)\n",
    "    precision_matrix = np.linalg.inv(cov_matrix)\n",
    "    esperance_vector = np.mean(X, axis = 0)\n",
    "    class_variables = (esperance_vector, cov_matrix)\n",
    "\n",
    "    return class_variables, X\n",
    "\n",
    "class_0_variables, vectors_0 = compute_class_variables(df_train_0)\n",
    "class_1_variables, vectors_1 = compute_class_variables(df_train_1)\n",
    "\n",
    "df_train_0 = None\n",
    "df_train_1 = None"
   ]
  },
  {
   "cell_type": "code",
   "execution_count": 4,
   "metadata": {},
   "outputs": [],
   "source": [
    "from aiirw import AI_IRW"
   ]
  },
  {
   "cell_type": "code",
   "execution_count": 24,
   "metadata": {},
   "outputs": [],
   "source": [
    "def D_IRW(x, prediction, vectors_0, vectors_1):\n",
    "    if prediction == 0:\n",
    "        train_vectors = vectors_0\n",
    "    elif prediction == 1:\n",
    "        train_vectors = vectors_1\n",
    "    else:\n",
    "        return ValueError\n",
    "    \n",
    "    return AI_IRW(X=train_vectors, AI=False, X_test=np.reshape(x, (1, 768)), n_dirs=1000)[0]\n"
   ]
  },
  {
   "cell_type": "code",
   "execution_count": 25,
   "metadata": {},
   "outputs": [
    {
     "name": "stdout",
     "output_type": "stream",
     "text": [
      "0.23060943643512452\n"
     ]
    }
   ],
   "source": [
    "X = np.array(df_train)\n",
    "v = X[0, :]\n",
    "\n",
    "softmax = v[-1]\n",
    "pred = v[-2]\n",
    "v = np.reshape(v[:-2], (768, 12))\n",
    "\n",
    "avg_v = np.mean(v, axis = 1)\n",
    "\n",
    "print(D_IRW(avg_v, pred, vectors_0, vectors_1))\n"
   ]
  },
  {
   "cell_type": "code",
   "execution_count": null,
   "metadata": {},
   "outputs": [],
   "source": []
  }
 ],
 "metadata": {
  "kernelspec": {
   "display_name": "env_nlp",
   "language": "python",
   "name": "python3"
  },
  "language_info": {
   "codemirror_mode": {
    "name": "ipython",
    "version": 3
   },
   "file_extension": ".py",
   "mimetype": "text/x-python",
   "name": "python",
   "nbconvert_exporter": "python",
   "pygments_lexer": "ipython3",
   "version": "3.10.8"
  },
  "orig_nbformat": 4,
  "vscode": {
   "interpreter": {
    "hash": "d77e94ad5154a8372e5b84147a12781a57ba1e1ef1cb48f851f04359198115a0"
   }
  }
 },
 "nbformat": 4,
 "nbformat_minor": 2
}
