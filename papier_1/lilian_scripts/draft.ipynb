{
 "cells": [
  {
   "cell_type": "code",
   "execution_count": 7,
   "metadata": {},
   "outputs": [
    {
     "name": "stderr",
     "output_type": "stream",
     "text": [
      "10671it [00:00, 11469.41it/s]\n",
      "10628it [00:01, 8826.95it/s]\n"
     ]
    }
   ],
   "source": [
    "import pandas as pd\n",
    "import numpy as np\n",
    "from tqdm import tqdm\n",
    "from aiirw import AI_IRW\n",
    "\n",
    "df_train = pd.read_csv('data/train_latent.csv').T\n",
    "\n",
    "df_train_0 = df_train[df_train[9216] == 0][range(12*768)]\n",
    "df_train_1 = df_train[df_train[9216] == 1][range(12*768)]\n",
    "\n",
    "def compute_class_variables(df):\n",
    "\n",
    "    mean_vectors = []\n",
    "    for i, row in tqdm(df.iterrows()):\n",
    "        mean_vector = np.mean(np.reshape(np.array(row), (768, 12)), axis = 1)\n",
    "        mean_vectors.append(mean_vector)\n",
    "\n",
    "    X = np.array(mean_vectors)\n",
    "    cov_matrix = np.cov(X.T)\n",
    "    precision_matrix = np.linalg.inv(cov_matrix)\n",
    "    esperance_vector = np.mean(X, axis = 0)\n",
    "    class_variables = (esperance_vector, cov_matrix)\n",
    "\n",
    "    return class_variables, X\n",
    "\n",
    "class_0_variables, vectors_0 = compute_class_variables(df_train_0)\n",
    "class_1_variables, vectors_1 = compute_class_variables(df_train_1)\n",
    "\n",
    "df_train_0 = None\n",
    "df_train_1 = None\n",
    "\n",
    "\n",
    "def MSP(x):\n",
    "    \"\"\"Max softmax proba\n",
    "    x is the max logits value\n",
    "    \"\"\"\n",
    "    return 1 - x\n",
    "\n",
    "def D_energy(x, T = 1):\n",
    "    \"\"\"\n",
    "    x is the max logits value\n",
    "    \"\"\"\n",
    "    return T * np.log(np.exp(x / T) + np.exp((1 - x) / T))\n",
    "\n",
    "def D_M(x, prediction, class_0_variables, class_1_variables):\n",
    "    \"\"\"Mahalanobis distance\n",
    "    \"\"\"\n",
    "    if prediction == 0:\n",
    "        esperance = class_0_variables[0]\n",
    "        precision = class_0_variables[1]\n",
    "    elif prediction == 1:\n",
    "        esperance = class_1_variables[0]\n",
    "        precision = class_1_variables[1]\n",
    "    else:\n",
    "        return ValueError\n",
    "\n",
    "    v = x - esperance\n",
    "    u = 1 + (v.T @ precision @ v)\n",
    "    return 1 / u\n",
    "\n",
    "def D_IRW(x, prediction, vectors_0, vectors_1):\n",
    "    if prediction == 0:\n",
    "        train_vectors = vectors_0\n",
    "    elif prediction == 1:\n",
    "        train_vectors = vectors_1\n",
    "    else:\n",
    "        return ValueError\n",
    "    \n",
    "    return AI_IRW(X=train_vectors, AI=False, X_test=np.reshape(x, (1, 768)), n_dirs=1000)[0]\n",
    "\n",
    "\n",
    "    \n"
   ]
  },
  {
   "cell_type": "code",
   "execution_count": 11,
   "metadata": {},
   "outputs": [],
   "source": [
    "def save_similarities(df, file_name):\n",
    "    distances = []\n",
    "    X = np.array(df)\n",
    "    for i in tqdm(range(X.shape[0])):\n",
    "        v = X[i, :]\n",
    "        print(v.shape)\n",
    "        softmax = v[-1]\n",
    "        pred = v[-2]\n",
    "        v = np.reshape(v[:-2], (768, 12))\n",
    "\n",
    "        avg_v = np.mean(v, axis = 1)\n",
    "\n",
    "        distances.append([\n",
    "                        MSP(softmax), \n",
    "                        D_energy(softmax), \n",
    "                        -D_M(avg_v, pred, class_0_variables, class_1_variables), \n",
    "                        D_IRW(avg_v, pred, vectors_0, vectors_1)\n",
    "                            ])\n",
    "    \n",
    "    pd.DataFrame(np.array(distances), columns = ['MSP', 'E', 'D_M', 'D_IRW']).to_csv(file_name)"
   ]
  },
  {
   "cell_type": "code",
   "execution_count": 12,
   "metadata": {},
   "outputs": [
    {
     "name": "stderr",
     "output_type": "stream",
     "text": [
      "  0%|          | 0/1737 [00:00<?, ?it/s]"
     ]
    },
    {
     "name": "stdout",
     "output_type": "stream",
     "text": [
      "(9218,)\n"
     ]
    },
    {
     "name": "stderr",
     "output_type": "stream",
     "text": [
      "  0%|          | 1/1737 [00:01<48:17,  1.67s/it]"
     ]
    },
    {
     "name": "stdout",
     "output_type": "stream",
     "text": [
      "(9218,)\n"
     ]
    },
    {
     "name": "stderr",
     "output_type": "stream",
     "text": [
      "  0%|          | 2/1737 [00:03<43:47,  1.51s/it]"
     ]
    },
    {
     "name": "stdout",
     "output_type": "stream",
     "text": [
      "(9218,)\n"
     ]
    },
    {
     "name": "stderr",
     "output_type": "stream",
     "text": [
      "  0%|          | 2/1737 [00:04<1:04:38,  2.24s/it]\n"
     ]
    },
    {
     "ename": "KeyboardInterrupt",
     "evalue": "",
     "output_type": "error",
     "traceback": [
      "\u001b[0;31m---------------------------------------------------------------------------\u001b[0m",
      "\u001b[0;31mKeyboardInterrupt\u001b[0m                         Traceback (most recent call last)",
      "Cell \u001b[0;32mIn[12], line 4\u001b[0m\n\u001b[1;32m      1\u001b[0m df_in \u001b[39m=\u001b[39m pd\u001b[39m.\u001b[39mread_csv(\u001b[39m'\u001b[39m\u001b[39mdata/in_latent.csv\u001b[39m\u001b[39m'\u001b[39m)\u001b[39m.\u001b[39mT\n\u001b[1;32m      2\u001b[0m \u001b[39m# df_out = pd.read_csv('data/out_latent.csv')\u001b[39;00m\n\u001b[0;32m----> 4\u001b[0m save_similarities(df_in, \u001b[39m'\u001b[39;49m\u001b[39min_distances.csv\u001b[39;49m\u001b[39m'\u001b[39;49m)\n",
      "Cell \u001b[0;32mIn[11], line 17\u001b[0m, in \u001b[0;36msave_similarities\u001b[0;34m(df, file_name)\u001b[0m\n\u001b[1;32m      9\u001b[0m     v \u001b[39m=\u001b[39m np\u001b[39m.\u001b[39mreshape(v[:\u001b[39m-\u001b[39m\u001b[39m2\u001b[39m], (\u001b[39m768\u001b[39m, \u001b[39m12\u001b[39m))\n\u001b[1;32m     11\u001b[0m     avg_v \u001b[39m=\u001b[39m np\u001b[39m.\u001b[39mmean(v, axis \u001b[39m=\u001b[39m \u001b[39m1\u001b[39m)\n\u001b[1;32m     13\u001b[0m     distances\u001b[39m.\u001b[39mappend([\n\u001b[1;32m     14\u001b[0m                     MSP(softmax), \n\u001b[1;32m     15\u001b[0m                     D_energy(softmax), \n\u001b[1;32m     16\u001b[0m                     \u001b[39m-\u001b[39mD_M(avg_v, pred, class_0_variables, class_1_variables), \n\u001b[0;32m---> 17\u001b[0m                     D_IRW(avg_v, pred, vectors_0, vectors_1)\n\u001b[1;32m     18\u001b[0m                         ])\n\u001b[1;32m     20\u001b[0m pd\u001b[39m.\u001b[39mDataFrame(np\u001b[39m.\u001b[39marray(distances), columns \u001b[39m=\u001b[39m [\u001b[39m'\u001b[39m\u001b[39mMSP\u001b[39m\u001b[39m'\u001b[39m, \u001b[39m'\u001b[39m\u001b[39mE\u001b[39m\u001b[39m'\u001b[39m, \u001b[39m'\u001b[39m\u001b[39mD_M\u001b[39m\u001b[39m'\u001b[39m, \u001b[39m'\u001b[39m\u001b[39mD_IRW\u001b[39m\u001b[39m'\u001b[39m])\u001b[39m.\u001b[39mto_csv(file_name)\n",
      "Cell \u001b[0;32mIn[7], line 69\u001b[0m, in \u001b[0;36mD_IRW\u001b[0;34m(x, prediction, vectors_0, vectors_1)\u001b[0m\n\u001b[1;32m     66\u001b[0m \u001b[39melse\u001b[39;00m:\n\u001b[1;32m     67\u001b[0m     \u001b[39mreturn\u001b[39;00m \u001b[39mValueError\u001b[39;00m\n\u001b[0;32m---> 69\u001b[0m \u001b[39mreturn\u001b[39;00m AI_IRW(X\u001b[39m=\u001b[39;49mtrain_vectors, AI\u001b[39m=\u001b[39;49m\u001b[39mFalse\u001b[39;49;00m, X_test\u001b[39m=\u001b[39;49mnp\u001b[39m.\u001b[39;49mreshape(x, (\u001b[39m1\u001b[39;49m, \u001b[39m768\u001b[39;49m)), n_dirs\u001b[39m=\u001b[39;49m\u001b[39m1000\u001b[39;49m)[\u001b[39m0\u001b[39m]\n",
      "File \u001b[0;32m~/work/nlp_ood_detection/papier_1/lilian_scripts/aiirw.py:110\u001b[0m, in \u001b[0;36mAI_IRW\u001b[0;34m(X, AI, robust, n_dirs, X_test, random_state)\u001b[0m\n\u001b[1;32m    107\u001b[0m depth \u001b[39m=\u001b[39m np\u001b[39m.\u001b[39mzeros((n_samples_test, n_dirs))\n\u001b[1;32m    108\u001b[0m temp \u001b[39m=\u001b[39m np\u001b[39m.\u001b[39mzeros((n_samples_test, n_dirs))\n\u001b[0;32m--> 110\u001b[0m proj\u001b[39m.\u001b[39;49msort(axis\u001b[39m=\u001b[39;49m\u001b[39m0\u001b[39;49m)\n\u001b[1;32m    111\u001b[0m \u001b[39mfor\u001b[39;00m k \u001b[39min\u001b[39;00m \u001b[39mrange\u001b[39m(n_dirs):\n\u001b[1;32m    112\u001b[0m     depth[:,k] \u001b[39m=\u001b[39m np\u001b[39m.\u001b[39msearchsorted(a\u001b[39m=\u001b[39mproj[:,k],v\u001b[39m=\u001b[39mproj_test[:,k], side\u001b[39m=\u001b[39m\u001b[39m'\u001b[39m\u001b[39mleft\u001b[39m\u001b[39m'\u001b[39m)\n",
      "\u001b[0;31mKeyboardInterrupt\u001b[0m: "
     ]
    }
   ],
   "source": [
    "df_in = pd.read_csv('data/in_latent.csv').T\n",
    "# df_out = pd.read_csv('data/out_latent.csv')\n",
    "\n",
    "save_similarities(df_in, 'in_distances.csv')"
   ]
  },
  {
   "cell_type": "code",
   "execution_count": null,
   "metadata": {},
   "outputs": [],
   "source": []
  },
  {
   "cell_type": "code",
   "execution_count": null,
   "metadata": {},
   "outputs": [],
   "source": [
    "%load_ext autoreload\n",
    "\n",
    "%autoreload 2"
   ]
  },
  {
   "cell_type": "code",
   "execution_count": null,
   "metadata": {},
   "outputs": [],
   "source": [
    "import pandas as pd\n",
    "import numpy as np\n",
    "from tqdm import tqdm"
   ]
  },
  {
   "cell_type": "code",
   "execution_count": null,
   "metadata": {},
   "outputs": [],
   "source": [
    "df_train = pd.read_csv('data/out_latent.csv').T\n",
    "\n",
    "df_train_0 = df_train[df_train[9216] == 0][range(12*768)]\n",
    "df_train_1 = df_train[df_train[9216] == 1][range(12*768)]\n",
    "\n",
    "def compute_class_variables(df):\n",
    "\n",
    "    mean_vectors = []\n",
    "    for i, row in tqdm(df.iterrows()):\n",
    "        mean_vector = np.mean(np.reshape(np.array(row), (768, 12)), axis = 1)\n",
    "        mean_vectors.append(mean_vector)\n",
    "\n",
    "    X = np.array(mean_vectors)\n",
    "    cov_matrix = np.cov(X.T)\n",
    "    precision_matrix = np.linalg.inv(cov_matrix)\n",
    "    esperance_vector = np.mean(X, axis = 0)\n",
    "    class_variables = (esperance_vector, cov_matrix)\n",
    "\n",
    "    return class_variables, X\n",
    "\n",
    "class_0_variables, vectors_0 = compute_class_variables(df_train_0)\n",
    "class_1_variables, vectors_1 = compute_class_variables(df_train_1)\n",
    "\n",
    "df_train_0 = None\n",
    "df_train_1 = None"
   ]
  },
  {
   "cell_type": "code",
   "execution_count": null,
   "metadata": {},
   "outputs": [],
   "source": [
    "from aiirw import AI_IRW"
   ]
  },
  {
   "cell_type": "code",
   "execution_count": null,
   "metadata": {},
   "outputs": [],
   "source": [
    "def D_IRW(x, prediction, vectors_0, vectors_1):\n",
    "    if prediction == 0:\n",
    "        train_vectors = vectors_0\n",
    "    elif prediction == 1:\n",
    "        train_vectors = vectors_1\n",
    "    else:\n",
    "        return ValueError\n",
    "    \n",
    "    return AI_IRW(X=train_vectors, AI=False, X_test=np.reshape(x, (1, 768)), n_dirs=1000)[0]\n"
   ]
  },
  {
   "cell_type": "code",
   "execution_count": null,
   "metadata": {},
   "outputs": [],
   "source": [
    "X = np.array(df_train)\n",
    "v = X[0, :]\n",
    "\n",
    "softmax = v[-1]\n",
    "pred = v[-2]\n",
    "v = np.reshape(v[:-2], (768, 12))\n",
    "\n",
    "avg_v = np.mean(v, axis = 1)\n",
    "\n",
    "print(D_IRW(avg_v, pred, vectors_0, vectors_1))\n"
   ]
  },
  {
   "cell_type": "code",
   "execution_count": null,
   "metadata": {},
   "outputs": [],
   "source": []
  }
 ],
 "metadata": {
  "kernelspec": {
   "display_name": "env_nlp",
   "language": "python",
   "name": "python3"
  },
  "language_info": {
   "codemirror_mode": {
    "name": "ipython",
    "version": 3
   },
   "file_extension": ".py",
   "mimetype": "text/x-python",
   "name": "python",
   "nbconvert_exporter": "python",
   "pygments_lexer": "ipython3",
   "version": "3.10.8 | packaged by conda-forge | (main, Nov 22 2022, 08:26:04) [GCC 10.4.0]"
  },
  "orig_nbformat": 4,
  "vscode": {
   "interpreter": {
    "hash": "d77e94ad5154a8372e5b84147a12781a57ba1e1ef1cb48f851f04359198115a0"
   }
  }
 },
 "nbformat": 4,
 "nbformat_minor": 2
}
