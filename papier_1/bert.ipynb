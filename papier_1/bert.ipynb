{
 "cells": [
  {
   "cell_type": "code",
   "execution_count": 28,
   "metadata": {},
   "outputs": [],
   "source": [
    "\n",
    "import numpy as np\n",
    "import pandas as pd\n",
    "\n",
    "import torch\n",
    "from datasets import load_dataset\n",
    "from torch import nn\n",
    "from tqdm import tqdm, trange\n",
    "from transformers import AutoModelForSequenceClassification, AutoTokenizer\n",
    "\n",
    "from torch.utils.data import DataLoader\n",
    "import pickle\n",
    "from aiirw import AI_IRW\n",
    "\n",
    "from scipy.spatial.distance import mahalanobis, cdist\n",
    "\n",
    "import matplotlib.pyplot as plt\n",
    "import seaborn as sns\n",
    "sns.set_style('white')"
   ]
  },
  {
   "cell_type": "code",
   "execution_count": 7,
   "metadata": {},
   "outputs": [
    {
     "name": "stderr",
     "output_type": "stream",
     "text": [
      "Found cached dataset imdb (/home/onyxia/.cache/huggingface/datasets/imdb/plain_text/1.0.0/2fdd8b9bcadd6e7055e742a706876ba43f19faee861df134affd7a3f60fc38a1)\n"
     ]
    },
    {
     "data": {
      "application/vnd.jupyter.widget-view+json": {
       "model_id": "a0a8b4306a1743f7b28a489bdf0c2d82",
       "version_major": 2,
       "version_minor": 0
      },
      "text/plain": [
       "  0%|          | 0/3 [00:00<?, ?it/s]"
      ]
     },
     "metadata": {},
     "output_type": "display_data"
    },
    {
     "name": "stderr",
     "output_type": "stream",
     "text": [
      "Found cached dataset sst2 (/home/onyxia/.cache/huggingface/datasets/sst2/default/2.0.0/9896208a8d85db057ac50c72282bcb8fe755accc671a57dd8059d4e130961ed5)\n"
     ]
    },
    {
     "data": {
      "application/vnd.jupyter.widget-view+json": {
       "model_id": "059c593203884189bd17b29af50f499e",
       "version_major": 2,
       "version_minor": 0
      },
      "text/plain": [
       "  0%|          | 0/3 [00:00<?, ?it/s]"
      ]
     },
     "metadata": {},
     "output_type": "display_data"
    }
   ],
   "source": [
    "tokenizer = AutoTokenizer.from_pretrained(\"fabriceyhc/bert-base-uncased-imdb\")\n",
    "\n",
    "model = AutoModelForSequenceClassification.from_pretrained(\"fabriceyhc/bert-base-uncased-imdb\")\n",
    "dataset = load_dataset(\"imdb\")\n",
    "out_dataset = load_dataset(\"sst2\")"
   ]
  },
  {
   "cell_type": "code",
   "execution_count": 3,
   "metadata": {},
   "outputs": [],
   "source": [
    "class LatentBert(nn.Module):\n",
    "\n",
    "    def __init__(self, base_model):\n",
    "        super().__init__()\n",
    "        self.base_model = base_model\n",
    "        self.N = len(self.base_model.bert.encoder.layer)\n",
    "\n",
    "    def to(self, device):\n",
    "        self.base_model.to(device)\n",
    "        return self\n",
    "\n",
    "    def forward(self, x, return_class = False):\n",
    "        x = self.base_model.bert.embeddings(x)\n",
    "        latent_reps = torch.zeros((x.shape[0], x.shape[2],self.N)\n",
    "        )\n",
    "        for i, layer in enumerate(self.base_model.bert.encoder.layer) :\n",
    "            x = layer(x)[0]\n",
    "            latent_reps[:,:,i] = x[:,0,:] #Pooling is done by taking the hidden state of first token (cf Bert implementation)\n",
    "\n",
    "        if return_class:\n",
    "            x = self.base_model.bert.pooler(x)\n",
    "            x = self.base_model.classifier(x)\n",
    "\n",
    "            return torch.mean(latent_reps, axis=-1), torch.argmax(x, axis=-1)\n",
    "            \n",
    "        return torch.mean(latent_reps, axis=-1)"
   ]
  },
  {
   "cell_type": "code",
   "execution_count": 4,
   "metadata": {},
   "outputs": [],
   "source": [
    "lb = LatentBert(base_model=model).to('cuda')"
   ]
  },
  {
   "cell_type": "code",
   "execution_count": 6,
   "metadata": {},
   "outputs": [],
   "source": [
    "train_in_dl = DataLoader(dataset['train'], batch_size=8)"
   ]
  },
  {
   "cell_type": "markdown",
   "metadata": {},
   "source": [
    "environ 14min"
   ]
  },
  {
   "cell_type": "code",
   "execution_count": 7,
   "metadata": {},
   "outputs": [
    {
     "name": "stderr",
     "output_type": "stream",
     "text": [
      "100%|██████████| 3125/3125 [14:35<00:00,  3.57it/s]\n"
     ]
    }
   ],
   "source": [
    "embds = []\n",
    "labels = []\n",
    "for batch in tqdm(train_in_dl):\n",
    "    data = batch['text']\n",
    "    tk_batch = tokenizer(data,return_tensors=\"pt\", truncation=True, padding=True)['input_ids'].to('cuda')\n",
    "    embd, label = lb.forward(tk_batch, return_class=True)\n",
    "    embds.append(embd.cpu().detach())\n",
    "    labels.append(label.cpu().detach())"
   ]
  },
  {
   "cell_type": "code",
   "execution_count": 8,
   "metadata": {},
   "outputs": [],
   "source": [
    "with open('embeddings_train.pkl', 'wb') as f:\n",
    "    pickle.dump(embds, f)\n",
    "\n",
    "with open('labels_train.pkl', 'wb') as f:\n",
    "    pickle.dump(labels, f)\n",
    "    "
   ]
  },
  {
   "cell_type": "code",
   "execution_count": 5,
   "metadata": {},
   "outputs": [],
   "source": [
    "ood_dl = DataLoader(dataset=out_dataset['test'], batch_size=16)"
   ]
  },
  {
   "cell_type": "code",
   "execution_count": 6,
   "metadata": {},
   "outputs": [
    {
     "name": "stderr",
     "output_type": "stream",
     "text": [
      "100%|██████████| 114/114 [00:05<00:00, 21.34it/s]\n"
     ]
    }
   ],
   "source": [
    "embds = []\n",
    "labels = []\n",
    "is_accurate = []\n",
    "for batch in tqdm(ood_dl):\n",
    "    data = batch['sentence']\n",
    "    true_label = batch['label']\n",
    "    tk_batch = tokenizer(data,return_tensors=\"pt\", truncation=True, padding=True)['input_ids'].to('cuda')\n",
    "    embd, label = lb.forward(tk_batch, return_class=True)\n",
    "    embds.append(embd.cpu().detach())\n",
    "    pred = label.cpu().detach()\n",
    "    labels.append(pred)\n",
    "    is_accurate.append(true_label==pred)\n",
    "    "
   ]
  },
  {
   "cell_type": "code",
   "execution_count": 7,
   "metadata": {},
   "outputs": [],
   "source": [
    "with open('embeddings_ood_test.pkl', 'wb') as f:\n",
    "    pickle.dump(embds, f)\n",
    "\n",
    "with open('labels_ood_test.pkl', 'wb') as f:\n",
    "    pickle.dump(labels, f)"
   ]
  },
  {
   "cell_type": "code",
   "execution_count": 9,
   "metadata": {},
   "outputs": [],
   "source": [
    "test_in_dl = DataLoader(dataset['test'], batch_size=8)"
   ]
  },
  {
   "cell_type": "markdown",
   "metadata": {},
   "source": [
    "environ 14 min"
   ]
  },
  {
   "cell_type": "code",
   "execution_count": 10,
   "metadata": {},
   "outputs": [
    {
     "name": "stderr",
     "output_type": "stream",
     "text": [
      "100%|██████████| 3125/3125 [14:54<00:00,  3.50it/s]\n"
     ]
    }
   ],
   "source": [
    "embds = []\n",
    "labels = []\n",
    "is_accurate\n",
    "for batch in tqdm(test_in_dl):\n",
    "    data = batch['text']\n",
    "    tk_batch = tokenizer(data,return_tensors=\"pt\", truncation=True, padding=True)['input_ids'].to('cuda')\n",
    "    embd, label = lb.forward(tk_batch, return_class=True)\n",
    "    embds.append(embd.cpu().detach())\n",
    "    labels.append(label.cpu().detach())"
   ]
  },
  {
   "cell_type": "code",
   "execution_count": 11,
   "metadata": {},
   "outputs": [],
   "source": [
    "with open('embeddings_test.pkl', 'wb') as f:\n",
    "    pickle.dump(embds, f)\n",
    "\n",
    "with open('labels_test.pkl', 'wb') as f:\n",
    "    pickle.dump(labels, f)"
   ]
  },
  {
   "cell_type": "markdown",
   "metadata": {},
   "source": [
    "## Loading"
   ]
  },
  {
   "cell_type": "code",
   "execution_count": 2,
   "metadata": {},
   "outputs": [],
   "source": [
    "with open('embeddings_train.pkl', 'rb') as f:\n",
    "    embd_train = pickle.load(f)\n",
    "\n",
    "with open('labels_train.pkl', 'rb') as f:\n",
    "    label_train = pickle.load(f)"
   ]
  },
  {
   "cell_type": "code",
   "execution_count": 3,
   "metadata": {},
   "outputs": [],
   "source": [
    "with open('embeddings_ood_test.pkl', 'rb') as f:\n",
    "    embd_ood = pickle.load(f)\n",
    "\n",
    "with open('labels_ood_test.pkl', 'rb') as f:\n",
    "    label_ood = pickle.load(f)"
   ]
  },
  {
   "cell_type": "code",
   "execution_count": 4,
   "metadata": {},
   "outputs": [],
   "source": [
    "with open('embeddings_test.pkl', 'rb') as f:\n",
    "    embd_test = pickle.load(f)\n",
    "\n",
    "with open('labels_test.pkl', 'rb') as f:\n",
    "    label_test = pickle.load(f)"
   ]
  },
  {
   "cell_type": "code",
   "execution_count": 5,
   "metadata": {},
   "outputs": [],
   "source": [
    "label_train = torch.cat(label_train).numpy()\n",
    "embd_train = torch.cat(embd_train).numpy()\n",
    "\n",
    "train_distrib  = {l: embd_train[np.where(label_train==l)] for l in np.unique(label_train)}\n"
   ]
  },
  {
   "cell_type": "code",
   "execution_count": 6,
   "metadata": {},
   "outputs": [],
   "source": [
    "label_test = torch.cat(label_test).numpy()\n",
    "embd_test = torch.cat(embd_test).numpy()\n",
    "\n",
    "test_distrib  = {l: embd_test[np.where(label_test==l)] for l in np.unique(label_test)}\n"
   ]
  },
  {
   "cell_type": "code",
   "execution_count": 7,
   "metadata": {},
   "outputs": [],
   "source": [
    "label_ood_ = torch.cat(label_ood).numpy()\n",
    "embd_ood_ = torch.cat(embd_ood).numpy()\n",
    "\n",
    "ood_distrib  = {l: embd_ood_[np.where(label_ood_==l)] for l in np.unique(label_ood_)}\n"
   ]
  },
  {
   "cell_type": "code",
   "execution_count": 8,
   "metadata": {},
   "outputs": [],
   "source": [
    "def MahaDist(X, distrib):\n",
    "    m = np.mean(distrib, axis=0).reshape(1, 768)\n",
    "    VI= np.linalg.inv(np.cov(distrib.T))\n",
    "    return cdist(XA = X, XB = m, metric = 'mahalanobis', VI=VI)"
   ]
  },
  {
   "cell_type": "code",
   "execution_count": 9,
   "metadata": {},
   "outputs": [],
   "source": [
    "#scores_ood = np.concatenate((AI_IRW(X=train_distrib[0], AI=True, X_test=ood_distrib[0], n_dirs=200) ,AI_IRW(X=train_distrib[1], AI=True, X_test=ood_distrib[1], n_dirs=200)))\n",
    "scores_ood = np.concatenate((MahaDist(X=ood_distrib[0], distrib=train_distrib[0]) ,MahaDist(X=ood_distrib[1], distrib=train_distrib[1])))"
   ]
  },
  {
   "cell_type": "code",
   "execution_count": 10,
   "metadata": {},
   "outputs": [],
   "source": [
    "#scores_test = np.concatenate((AI_IRW(X=train_distrib[0], AI=True, X_test=test_distrib[0], n_dirs=200, robust=True) ,AI_IRW(X=train_distrib[1], AI=True, X_test=test_distrib[1], n_dirs=200, robust=True)))\n",
    "scores_test = np.concatenate((MahaDist(X=test_distrib[0], distrib=train_distrib[0]) ,MahaDist(X=test_distrib[1], distrib=train_distrib[1])))"
   ]
  },
  {
   "cell_type": "code",
   "execution_count": 40,
   "metadata": {},
   "outputs": [
    {
     "data": {
      "image/png": "[encoded data removed]",
      "text/plain": [
       "<Figure size 640x480 with 1 Axes>"
      ]
     },
     "metadata": {},
     "output_type": "display_data"
    }
   ],
   "source": [
    "sns.histplot(scores_test[:,0], label='in', bins=50, color='skyblue',kde=True, stat='proportion',  line_kws={\"lw\":3})\n",
    "sns.histplot(scores_ood[:,0], label='out', bins=50, color='red', kde=True, stat='proportion',  line_kws={\"lw\":3})\n",
    "plt.legend()\n",
    "plt.title(\"MahaDist\")\n",
    "plt.show()"
   ]
  },
  {
   "cell_type": "code",
   "execution_count": null,
   "metadata": {},
   "outputs": [],
   "source": []
  }
 ],
 "metadata": {
  "kernelspec": {
   "display_name": "base",
   "language": "python",
   "name": "python3"
  },
  "language_info": {
   "codemirror_mode": {
    "name": "ipython",
    "version": 3
   },
   "file_extension": ".py",
   "mimetype": "text/x-python",
   "name": "python",
   "nbconvert_exporter": "python",
   "pygments_lexer": "ipython3",
   "version": "3.10.8 | packaged by conda-forge | (main, Nov 22 2022, 08:26:04) [GCC 10.4.0]"
  },
  "orig_nbformat": 4,
  "vscode": {
   "interpreter": {
    "hash": "3fa046f995eb80ac40c0869a1f9df46519f4ada8b8c395ef25dd1aa1a1a2fc63"
   }
  }
 },
 "nbformat": 4,
 "nbformat_minor": 2
}
