{
 "cells": [
  {
   "cell_type": "code",
   "execution_count": 1,
   "metadata": {},
   "outputs": [
    {
     "name": "stderr",
     "output_type": "stream",
     "text": [
      "/Users/g0bel1n/opt/anaconda3/envs/nlpensae-env/lib/python3.9/site-packages/tqdm/auto.py:22: TqdmWarning: IProgress not found. Please update jupyter and ipywidgets. See https://ipywidgets.readthedocs.io/en/stable/user_install.html\n",
      "  from .autonotebook import tqdm as notebook_tqdm\n"
     ]
    }
   ],
   "source": [
    "\n",
    "import numpy as np\n",
    "import pandas as pd\n",
    "\n",
    "import torch\n",
    "from datasets import load_dataset\n",
    "from torch import nn\n",
    "from tqdm import tqdm, trange\n",
    "from transformers import AutoModelForSequenceClassification, AutoTokenizer\n",
    "\n",
    "from torch.utils.data import DataLoader\n",
    "import pickle\n",
    "from aiirw import AI_IRW\n",
    "\n",
    "from scipy.spatial.distance import mahalanobis, cdist\n",
    "\n",
    "import matplotlib.pyplot as plt\n",
    "import seaborn as sns\n",
    "sns.set_style('white')"
   ]
  },
  {
   "cell_type": "code",
   "execution_count": 2,
   "metadata": {},
   "outputs": [
    {
     "name": "stderr",
     "output_type": "stream",
     "text": [
      "Found cached dataset imdb (/home/onyxia/.cache/huggingface/datasets/imdb/plain_text/1.0.0/d613c88cf8fa3bab83b4ded3713f1f74830d1100e171db75bbddb80b3345c9c0)\n"
     ]
    },
    {
     "data": {
      "application/vnd.jupyter.widget-view+json": {
       "model_id": "232cd2c48f4a49c69cf8d42faea85f65",
       "version_major": 2,
       "version_minor": 0
      },
      "text/plain": [
       "  0%|          | 0/3 [00:00<?, ?it/s]"
      ]
     },
     "metadata": {},
     "output_type": "display_data"
    },
    {
     "name": "stderr",
     "output_type": "stream",
     "text": [
      "Found cached dataset sst2 (/home/onyxia/.cache/huggingface/datasets/sst2/default/2.0.0/9896208a8d85db057ac50c72282bcb8fe755accc671a57dd8059d4e130961ed5)\n"
     ]
    },
    {
     "data": {
      "application/vnd.jupyter.widget-view+json": {
       "model_id": "c1c2d772fb1649e9b3be5a95ecc82d86",
       "version_major": 2,
       "version_minor": 0
      },
      "text/plain": [
       "  0%|          | 0/3 [00:00<?, ?it/s]"
      ]
     },
     "metadata": {},
     "output_type": "display_data"
    }
   ],
   "source": [
    "tokenizer = AutoTokenizer.from_pretrained(\"fabriceyhc/bert-base-uncased-imdb\")\n",
    "\n",
    "model = AutoModelForSequenceClassification.from_pretrained(\"fabriceyhc/bert-base-uncased-imdb\")\n"
   ]
  },
  {
   "cell_type": "code",
   "execution_count": null,
   "metadata": {},
   "outputs": [],
   "source": [
    "dataset = load_dataset(\"imdb\")\n",
    "out_dataset = load_dataset(\"sst2\")"
   ]
  },
  {
   "cell_type": "code",
   "execution_count": 3,
   "metadata": {},
   "outputs": [],
   "source": [
    "class LatentBert(nn.Module):\n",
    "\n",
    "    def __init__(self, base_model):\n",
    "        super().__init__()\n",
    "        self.base_model = base_model\n",
    "        self.N = len(self.base_model.bert.encoder.layer)\n",
    "\n",
    "    def to(self, device):\n",
    "        self.base_model.to(device)\n",
    "        return self\n",
    "\n",
    "    def forward(self, x, return_class = False):\n",
    "        x = self.base_model.bert.embeddings(x)\n",
    "        latent_reps = torch.zeros((x.shape[0], x.shape[2],self.N)\n",
    "        )\n",
    "        for i, layer in enumerate(self.base_model.bert.encoder.layer) :\n",
    "            x = layer(x)[0]\n",
    "            latent_reps[:,:,i] = x[:,0,:] #Pooling is done by taking the hidden state of first token (cf Bert implementation)\n",
    "\n",
    "        if return_class:\n",
    "            x = self.base_model.bert.pooler(x)\n",
    "            x = self.base_model.classifier(x)\n",
    "            \n",
    "            return torch.mean(latent_reps, axis=-1), torch.argmax(x, axis=-1)\n",
    "            \n",
    "        return torch.mean(latent_reps, axis=-1)"
   ]
  },
  {
   "cell_type": "code",
   "execution_count": 4,
   "metadata": {},
   "outputs": [],
   "source": [
    "lb = LatentBert(base_model=model).to('cuda')"
   ]
  },
  {
   "cell_type": "code",
   "execution_count": 6,
   "metadata": {},
   "outputs": [],
   "source": [
    "train_in_dl = DataLoader(dataset['train'], batch_size=8)"
   ]
  },
  {
   "cell_type": "markdown",
   "metadata": {},
   "source": [
    "environ 14min"
   ]
  },
  {
   "cell_type": "code",
   "execution_count": 7,
   "metadata": {},
   "outputs": [
    {
     "name": "stderr",
     "output_type": "stream",
     "text": [
      "100%|██████████| 3125/3125 [14:35<00:00,  3.57it/s]\n"
     ]
    }
   ],
   "source": [
    "embds = []\n",
    "labels = []\n",
    "for batch in tqdm(train_in_dl):\n",
    "    data = batch['text']\n",
    "    tk_batch = tokenizer(data,return_tensors=\"pt\", truncation=True, padding=True)['input_ids'].to('cuda')\n",
    "    embd, label = lb.forward(tk_batch, return_class=True)\n",
    "    embds.append(embd.cpu().detach())\n",
    "    labels.append(label.cpu().detach())"
   ]
  },
  {
   "cell_type": "code",
   "execution_count": 8,
   "metadata": {},
   "outputs": [],
   "source": [
    "with open('embeddings_train.pkl', 'wb') as f:\n",
    "    pickle.dump(embds, f)\n",
    "\n",
    "with open('labels_train.pkl', 'wb') as f:\n",
    "    pickle.dump(labels, f)\n",
    "    "
   ]
  },
  {
   "cell_type": "code",
   "execution_count": 5,
   "metadata": {},
   "outputs": [],
   "source": [
    "ood_dl = DataLoader(dataset=out_dataset['test'], batch_size=16)"
   ]
  },
  {
   "cell_type": "code",
   "execution_count": 6,
   "metadata": {},
   "outputs": [
    {
     "name": "stderr",
     "output_type": "stream",
     "text": [
      "100%|██████████| 114/114 [00:05<00:00, 21.34it/s]\n"
     ]
    }
   ],
   "source": [
    "embds = []\n",
    "labels = []\n",
    "is_accurate = []\n",
    "for batch in tqdm(ood_dl):\n",
    "    data = batch['sentence']\n",
    "    true_label = batch['label']\n",
    "    tk_batch = tokenizer(data,return_tensors=\"pt\", truncation=True, padding=True)['input_ids'].to('cuda')\n",
    "    embd, label = lb.forward(tk_batch, return_class=True)\n",
    "    embds.append(embd.cpu().detach())\n",
    "    pred = label.cpu().detach()\n",
    "    labels.append(pred)\n",
    "    is_accurate.append(true_label==pred)\n",
    "    "
   ]
  },
  {
   "cell_type": "code",
   "execution_count": 7,
   "metadata": {},
   "outputs": [],
   "source": [
    "with open('embeddings_ood_test.pkl', 'wb') as f:\n",
    "    pickle.dump(embds, f)\n",
    "\n",
    "with open('labels_ood_test.pkl', 'wb') as f:\n",
    "    pickle.dump(labels, f)"
   ]
  },
  {
   "cell_type": "code",
   "execution_count": 9,
   "metadata": {},
   "outputs": [],
   "source": [
    "test_in_dl = DataLoader(dataset['test'], batch_size=8)"
   ]
  },
  {
   "cell_type": "markdown",
   "metadata": {},
   "source": [
    "environ 14 min"
   ]
  },
  {
   "cell_type": "code",
   "execution_count": 10,
   "metadata": {},
   "outputs": [
    {
     "name": "stderr",
     "output_type": "stream",
     "text": [
      "100%|██████████| 3125/3125 [14:54<00:00,  3.50it/s]\n"
     ]
    }
   ],
   "source": [
    "embds = []\n",
    "labels = []\n",
    "is_accurate\n",
    "for batch in tqdm(test_in_dl):\n",
    "    data = batch['text']\n",
    "    tk_batch = tokenizer(data,return_tensors=\"pt\", truncation=True, padding=True)['input_ids'].to('cuda')\n",
    "    embd, label = lb.forward(tk_batch, return_class=True)\n",
    "    embds.append(embd.cpu().detach())\n",
    "    labels.append(label.cpu().detach())"
   ]
  },
  {
   "cell_type": "code",
   "execution_count": 11,
   "metadata": {},
   "outputs": [],
   "source": [
    "with open('embeddings_test.pkl', 'wb') as f:\n",
    "    pickle.dump(embds, f)\n",
    "\n",
    "with open('labels_test.pkl', 'wb') as f:\n",
    "    pickle.dump(labels, f)"
   ]
  },
  {
   "cell_type": "markdown",
   "metadata": {},
   "source": [
    "## Loading"
   ]
  },
  {
   "cell_type": "code",
   "execution_count": 2,
   "metadata": {},
   "outputs": [],
   "source": [
    "with open('embeddings_train.pkl', 'rb') as f:\n",
    "    embd_train = pickle.load(f)\n",
    "\n",
    "with open('labels_train.pkl', 'rb') as f:\n",
    "    label_train = pickle.load(f)"
   ]
  },
  {
   "cell_type": "code",
   "execution_count": 3,
   "metadata": {},
   "outputs": [],
   "source": [
    "with open('embeddings_ood_test.pkl', 'rb') as f:\n",
    "    embd_ood = pickle.load(f)\n",
    "\n",
    "with open('labels_ood_test.pkl', 'rb') as f:\n",
    "    label_ood = pickle.load(f)"
   ]
  },
  {
   "cell_type": "code",
   "execution_count": 4,
   "metadata": {},
   "outputs": [],
   "source": [
    "with open('embeddings_test.pkl', 'rb') as f:\n",
    "    embd_test = pickle.load(f)\n",
    "\n",
    "with open('labels_test.pkl', 'rb') as f:\n",
    "    label_test = pickle.load(f)"
   ]
  },
  {
   "cell_type": "code",
   "execution_count": 5,
   "metadata": {},
   "outputs": [],
   "source": [
    "label_train = torch.cat(label_train).numpy()\n",
    "embd_train = torch.cat(embd_train).numpy()\n",
    "\n",
    "train_distrib  = {l: embd_train[np.where(label_train==l)] for l in np.unique(label_train)}\n"
   ]
  },
  {
   "cell_type": "code",
   "execution_count": 6,
   "metadata": {},
   "outputs": [],
   "source": [
    "label_test = torch.cat(label_test).numpy()\n",
    "embd_test = torch.cat(embd_test).numpy()\n",
    "\n",
    "test_distrib  = {l: embd_test[np.where(label_test==l)] for l in np.unique(label_test)}\n"
   ]
  },
  {
   "cell_type": "code",
   "execution_count": 7,
   "metadata": {},
   "outputs": [],
   "source": [
    "label_ood_ = torch.cat(label_ood).numpy()\n",
    "embd_ood_ = torch.cat(embd_ood).numpy()\n",
    "\n",
    "ood_distrib  = {l: embd_ood_[np.where(label_ood_==l)] for l in np.unique(label_ood_)}\n"
   ]
  },
  {
   "cell_type": "code",
   "execution_count": 8,
   "metadata": {},
   "outputs": [],
   "source": [
    "def MahaDist(X, distrib):\n",
    "    m = np.mean(distrib, axis=0).reshape(1, 768)\n",
    "    VI= np.linalg.inv(np.cov(distrib.T))\n",
    "    return cdist(XA = X, XB = m, metric = 'mahalanobis', VI=VI)"
   ]
  },
  {
   "cell_type": "code",
   "execution_count": 9,
   "metadata": {},
   "outputs": [],
   "source": [
    "scores_ood = np.concatenate((AI_IRW(X=train_distrib[0], AI=True, X_test=ood_distrib[0], n_dirs=1000) ,AI_IRW(X=train_distrib[1], AI=True, X_test=ood_distrib[1], n_dirs=1000)))\n",
    "#scores_ood = np.concatenate((MahaDist(X=ood_distrib[0], distrib=train_distrib[0]) ,MahaDist(X=ood_distrib[1], distrib=train_distrib[0])))[:,0]"
   ]
  },
  {
   "cell_type": "code",
   "execution_count": 10,
   "metadata": {},
   "outputs": [],
   "source": [
    "scores_test = np.concatenate((AI_IRW(X=train_distrib[0], AI=True, X_test=test_distrib[0], n_dirs=1000) ,AI_IRW(X=train_distrib[1], AI=True, X_test=test_distrib[1], n_dirs=1000)))\n",
    "#scores_test = np.concatenate((MahaDist(X=test_distrib[0], distrib=train_distrib[0]) ,MahaDist(X=test_distrib[1], distrib=train_distrib[1])))[:,0]\n"
   ]
  },
  {
   "cell_type": "code",
   "execution_count": 11,
   "metadata": {},
   "outputs": [
    {
     "data": {
      "image/png": "[encoded data removed]",
      "text/plain": [
       "<Figure size 640x480 with 1 Axes>"
      ]
     },
     "metadata": {},
     "output_type": "display_data"
    }
   ],
   "source": [
    "c = 2*np.max(np.concatenate((scores_ood, scores_test)))\n",
    "sns.histplot(c-scores_test, label='in', binwidth=6.4e-3, color='skyblue',kde=True, stat='probability',  line_kws={\"lw\":3})\n",
    "sns.histplot(c-scores_ood, label='out',binwidth=6.4e-3, color='red', kde=True, stat='probability',  line_kws={\"lw\":3})\n",
    "plt.legend()\n",
    "plt.title(\"D_IRW\")\n",
    "plt.show()"
   ]
  },
  {
   "cell_type": "code",
   "execution_count": 12,
   "metadata": {},
   "outputs": [],
   "source": [
    "from _ood_classifier import OODDetector"
   ]
  },
  {
   "cell_type": "code",
   "execution_count": 23,
   "metadata": {},
   "outputs": [],
   "source": [
    "tau=50\n",
    "clf_0 = OODDetector(tau=tau, similarity='mahalanobis')\n",
    "clf_1 = OODDetector(tau=tau, similarity='mahalanobis')"
   ]
  },
  {
   "cell_type": "code",
   "execution_count": 24,
   "metadata": {},
   "outputs": [],
   "source": [
    "clf_0.fit(train_distrib[0])\n",
    "clf_1.fit(train_distrib[1])"
   ]
  },
  {
   "cell_type": "code",
   "execution_count": 25,
   "metadata": {},
   "outputs": [
    {
     "data": {
      "text/plain": [
       "0.9878325382885362"
      ]
     },
     "execution_count": 25,
     "metadata": {},
     "output_type": "execute_result"
    }
   ],
   "source": [
    "(clf_1.score(X_1, y_1)+clf_0.score(X_0, y_0))/2"
   ]
  },
  {
   "cell_type": "code",
   "execution_count": 9,
   "metadata": {},
   "outputs": [],
   "source": [
    "X_0 =  np.concatenate((ood_distrib[0], test_distrib[0]))\n",
    "y_0 =   np.concatenate((np.ones((ood_distrib[0].shape[0])), np.zeros((test_distrib[0].shape[0]))))\n",
    "\n",
    "X_1 =  np.concatenate((ood_distrib[1], test_distrib[1]))\n",
    "y_1 =   np.concatenate((np.ones((ood_distrib[1].shape[0])), np.zeros((test_distrib[1].shape[0]))))"
   ]
  },
  {
   "cell_type": "code",
   "execution_count": null,
   "metadata": {},
   "outputs": [],
   "source": []
  },
  {
   "cell_type": "code",
   "execution_count": null,
   "metadata": {},
   "outputs": [
    {
     "data": {
      "image/png": "[encoded data removed]",
      "text/plain": [
       "<Figure size 640x480 with 1 Axes>"
      ]
     },
     "metadata": {},
     "output_type": "display_data"
    }
   ],
   "source": [
    "#Maha\n",
    "binwidth = 4\n",
    "sns.histplot(scores_test, label='in', binwidth=binwidth, color='skyblue',kde=True, stat='probability',  line_kws={\"lw\":3})\n",
    "sns.histplot(scores_ood, label='out',binwidth=binwidth, color='red', kde=True, stat='probability',  line_kws={\"lw\":3})\n",
    "plt.legend()\n",
    "plt.title(\"D_M\")\n",
    "plt.show()"
   ]
  },
  {
   "cell_type": "code",
   "execution_count": 21,
   "metadata": {},
   "outputs": [],
   "source": [
    "#import random search from sklearn\n",
    "from sklearn.model_selection import RandomizedSearchCV\n",
    "#import shuffle from sklearn\n",
    "from sklearn.utils import shuffle\n",
    "\n",
    "X_0, y_0 = shuffle(X_0, y_0)\n",
    "X_1, y_1 = shuffle(X_1, y_1)\n",
    "\n",
    "# Create the parameter grid based on the results of random search, tau follows a gaussian centered in 50 with std 10\n",
    "param_grid = {\n",
    "    'tau': np.random.normal(50, 10, 10), \n",
    "    'similarity': ['mahalanobis'],\n",
    "    'base_distribution': [train_distrib[0]]\n",
    "}\n",
    "\n",
    "# Create a based model\n",
    "clf = OODDetector(similarity='mahalanobis', tau=50, base_distribution=train_distrib[0])\n",
    "\n",
    "# Instantiate the grid search model\n",
    "grid_search = RandomizedSearchCV(estimator = clf, param_distributions = param_grid,\n",
    "                            cv = 3, n_jobs = -1, verbose = 0)\n"
   ]
  },
  {
   "cell_type": "code",
   "execution_count": 23,
   "metadata": {},
   "outputs": [
    {
     "name": "stderr",
     "output_type": "stream",
     "text": [
      "/Users/g0bel1n/opt/anaconda3/envs/nlpensae-env/lib/python3.9/site-packages/sklearn/model_selection/_search.py:305: UserWarning: The total space of parameters 5 is smaller than n_iter=10. Running 5 iterations. For exhaustive searches, use GridSearchCV.\n",
      "  warnings.warn(\n"
     ]
    },
    {
     "name": "stdout",
     "output_type": "stream",
     "text": [
      "{'tau': 55.20475116736243, 'similarity': 'mahalanobis', 'base_distribution': array([[ 0.1655158 ,  0.19259338, -0.05701194, ..., -0.04087529,\n",
      "         0.06450007,  0.27201617],\n",
      "       [ 0.26176506,  0.13326405,  0.04254614, ..., -0.02392149,\n",
      "         0.06750306,  0.20914446],\n",
      "       [ 0.16050506, -0.07738341,  0.21776502, ..., -0.1432903 ,\n",
      "        -0.04918719, -0.1345499 ],\n",
      "       ...,\n",
      "       [-0.07087212, -0.27570873,  0.08874413, ..., -0.14185995,\n",
      "        -0.05530067, -0.18070912],\n",
      "       [-0.13870718, -0.08804137, -0.18017988, ..., -0.1654126 ,\n",
      "        -0.06333739, -0.11101169],\n",
      "       [ 0.00867541, -0.23554574,  0.14202845, ..., -0.29557773,\n",
      "        -0.16673136, -0.346024  ]], dtype=float32)}\n"
     ]
    }
   ],
   "source": [
    "grid_search.fit(X_0, y_0)\n",
    "print(grid_search.best_params_)"
   ]
  },
  {
   "cell_type": "code",
   "execution_count": 24,
   "metadata": {},
   "outputs": [
    {
     "data": {
      "text/plain": [
       "0.9936194668102111"
      ]
     },
     "execution_count": 24,
     "metadata": {},
     "output_type": "execute_result"
    }
   ],
   "source": [
    "grid_search.best_score_"
   ]
  }
 ],
 "metadata": {
  "kernelspec": {
   "display_name": "nlpensae-env",
   "language": "python",
   "name": "python3"
  },
  "language_info": {
   "codemirror_mode": {
    "name": "ipython",
    "version": 3
   },
   "file_extension": ".py",
   "mimetype": "text/x-python",
   "name": "python",
   "nbconvert_exporter": "python",
   "pygments_lexer": "ipython3",
   "version": "3.9.16"
  },
  "orig_nbformat": 4,
  "vscode": {
   "interpreter": {
    "hash": "44ccef2ce36ccbfa585098c9f3eb7ac9db520d2e1c0b64a90866bf9134de0364"
   }
  }
 },
 "nbformat": 4,
 "nbformat_minor": 2
}
