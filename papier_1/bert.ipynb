{
    "cells": [
        {
            "cell_type": "code",
            "execution_count": 1,
            "metadata": {},
            "outputs": [],
            "source": [
                "import numpy as np\n",
                "import pandas as pd\n",
                "\n",
                "import torch\n",
                "from datasets import load_dataset\n",
                "from torch import nn\n",
                "from tqdm import tqdm, trange\n",
                "from transformers import AutoModelForSequenceClassification, AutoTokenizer\n",
                "\n",
                "from torch.utils.data import DataLoader\n",
                "import pickle\n",
                "from aiirw import AI_IRW\n",
                "\n",
                "from scipy.spatial.distance import mahalanobis, cdist\n",
                "\n",
                "import matplotlib.pyplot as plt\n",
                "from _ood_classifier import OODDetector\n",
                "\n",
                "import seaborn as sns\n",
                "sns.set_style('white')"
            ]
        },
        {
            "cell_type": "code",
            "execution_count": 2,
            "metadata": {},
            "outputs": [],
            "source": [
                "tokenizer = AutoTokenizer.from_pretrained(\"fabriceyhc/bert-base-uncased-imdb\")\n",
                "\n",
                "model = AutoModelForSequenceClassification.from_pretrained(\"fabriceyhc/bert-base-uncased-imdb\")\n"
            ]
        },
        {
            "cell_type": "code",
            "execution_count": 3,
            "metadata": {},
            "outputs": [
                {
                    "name": "stderr",
                    "output_type": "stream",
                    "text": [
                        "Found cached dataset imdb (/home/onyxia/.cache/huggingface/datasets/imdb/plain_text/1.0.0/d613c88cf8fa3bab83b4ded3713f1f74830d1100e171db75bbddb80b3345c9c0)\n"
                    ]
                },
                {
                    "data": {
                        "application/vnd.jupyter.widget-view+json": {
                            "model_id": "8d0957e4cafa4ee2b71572c50e764cd4",
                            "version_major": 2,
                            "version_minor": 0
                        },
                        "text/plain": [
                            "  0%|          | 0/3 [00:00<?, ?it/s]"
                        ]
                    },
                    "metadata": {},
                    "output_type": "display_data"
                }
            ],
            "source": [
                "dataset = load_dataset(\"imdb\")\n",
                "\n"
            ]
        },
        {
            "cell_type": "code",
            "execution_count": 4,
            "metadata": {},
            "outputs": [],
            "source": [
                "class LatentBert(nn.Module):\n",
                "\n",
                "    def __init__(self, base_model):\n",
                "        super().__init__()\n",
                "        self.base_model = base_model\n",
                "        self.N = len(self.base_model.bert.encoder.layer)\n",
                "\n",
                "    def to(self, device):\n",
                "        self.base_model.to(device)\n",
                "        return self\n",
                "\n",
                "    def forward(self, x):\n",
                "        \n",
                "        x = self.base_model.bert.embeddings(x)\n",
                "        latent_reps = torch.zeros((x.shape[0], x.shape[2],self.N)\n",
                "        )\n",
                "        for i, layer in enumerate(self.base_model.bert.encoder.layer) :\n",
                "            x = layer(x)[0]\n",
                "            latent_reps[:,:,i] = x[:,0,:] #Pooling is done by taking the hidden state of first token (cf Bert implementation)\n",
                "        \n",
                "        x_ = self.base_model.bert.pooler(x)\n",
                "        x = self.base_model.classifier(x_)\n",
                "                \n",
                "        return {\"embeddings\" : torch.mean(latent_reps, axis=-1), \"logits\": x, \"attention\": x_}\n",
                "        "
            ]
        },
        {
            "cell_type": "code",
            "execution_count": 5,
            "metadata": {},
            "outputs": [],
            "source": [
                "lb = LatentBert(base_model=model).to('cuda')"
            ]
        },
        {
            "cell_type": "code",
            "execution_count": 43,
            "metadata": {},
            "outputs": [],
            "source": [
                "train_in_dl = DataLoader(dataset['train'], batch_size=8)"
            ]
        },
        {
            "cell_type": "markdown",
            "metadata": {},
            "source": [
                "environ 14min"
            ]
        },
        {
            "cell_type": "code",
            "execution_count": 44,
            "metadata": {},
            "outputs": [
                {
                    "name": "stderr",
                    "output_type": "stream",
                    "text": [
                        "100%|██████████| 3125/3125 [12:05<00:00,  4.31it/s]\n"
                    ]
                }
            ],
            "source": [
                "embds = []\n",
                "logits = []\n",
                "attns = []\n",
                "for batch in tqdm(train_in_dl):\n",
                "    data = batch['text']\n",
                "    tk_batch = tokenizer(data,return_tensors=\"pt\", truncation=True, padding=True)['input_ids'].to('cuda')\n",
                "    outputs = lb.forward(tk_batch, return_logits=True)\n",
                "    embds.append(outputs['embeddings'].cpu().detach())\n",
                "    logits.append(outputs['logits'].cpu().detach())\n",
                "    attns.append(outputs['attention'].cpu().detach())"
            ]
        },
        {
            "cell_type": "code",
            "execution_count": 45,
            "metadata": {},
            "outputs": [],
            "source": [
                "with open('nlp_data/embeddings_imbd_train.pkl', 'wb') as f:\n",
                "    pickle.dump(embds, f)\n",
                "\n",
                "with open('nlp_data/logits_imdb_train.pkl', 'wb') as f:\n",
                "    pickle.dump(logits, f)\n",
                "    \n",
                "with open('nlp_data/attns_imdb_train.pkl', 'wb') as f:\n",
                "    pickle.dump(attns, f)"
            ]
        },
        {
            "cell_type": "code",
            "execution_count": 6,
            "metadata": {},
            "outputs": [],
            "source": [
                "oods = dict(multi30k = [\"nlphuji/flickr30k\"],\n",
                "sst2 = [\"sst2\"],\n",
                "wmt16 = ['wmt16', 'de-en'],\n",
                "newsgroup = [\"SetFit/20_newsgroups\"])\n",
                "\n",
                "collate_fns = dict(\n",
                "    multi30k= lambda x : x[1]['caption'][0], \n",
                "    sst2= lambda x: [el['sentence'] for el in x], \n",
                "    wmt16 = lambda x : [el['translation']['en'] for el in x], \n",
                "    newsgroup=lambda x : [el['text'].replace('\\n', ' ').replace(\"\\\\\", '') for el in x ]\n",
                ")\n",
                "\n",
                "batch_sizes = dict(\n",
                "    multi30k= 16, \n",
                "    sst2= 16, \n",
                "    wmt16 = 16, \n",
                "    newsgroup=4\n",
                ")\n"
            ]
        },
        {
            "cell_type": "code",
            "execution_count": 8,
            "metadata": {},
            "outputs": [
                {
                    "name": "stderr",
                    "output_type": "stream",
                    "text": [
                        "Found cached dataset flickr30k (/home/onyxia/.cache/huggingface/datasets/nlphuji___flickr30k/TEST/1.1.0/6adb9ab2367c57c3e81e76ecaecb8047ea00c33dccf9da10455037f32ec43382)\n"
                    ]
                },
                {
                    "data": {
                        "application/vnd.jupyter.widget-view+json": {
                            "model_id": "78f994a97d3e48ccb432d5e166561924",
                            "version_major": 2,
                            "version_minor": 0
                        },
                        "text/plain": [
                            "  0%|          | 0/1 [00:00<?, ?it/s]"
                        ]
                    },
                    "metadata": {},
                    "output_type": "display_data"
                },
                {
                    "name": "stderr",
                    "output_type": "stream",
                    "text": [
                        "100%|██████████| 1939/1939 [03:20<00:00,  9.68it/s]\n",
                        "Found cached dataset sst2 (/home/onyxia/.cache/huggingface/datasets/sst2/default/2.0.0/9896208a8d85db057ac50c72282bcb8fe755accc671a57dd8059d4e130961ed5)\n"
                    ]
                },
                {
                    "data": {
                        "application/vnd.jupyter.widget-view+json": {
                            "model_id": "22cca51f1c8e46aeb4caba50353b0585",
                            "version_major": 2,
                            "version_minor": 0
                        },
                        "text/plain": [
                            "  0%|          | 0/3 [00:00<?, ?it/s]"
                        ]
                    },
                    "metadata": {},
                    "output_type": "display_data"
                },
                {
                    "name": "stderr",
                    "output_type": "stream",
                    "text": [
                        "100%|██████████| 114/114 [00:04<00:00, 22.85it/s]\n",
                        "Found cached dataset wmt16 (/home/onyxia/.cache/huggingface/datasets/wmt16/de-en/1.0.0/746749a11d25c02058042da7502d973ff410e73457f3d305fc1177dc0e8c4227)\n"
                    ]
                },
                {
                    "data": {
                        "application/vnd.jupyter.widget-view+json": {
                            "model_id": "08ab962646cf431cb8f96da435c5acee",
                            "version_major": 2,
                            "version_minor": 0
                        },
                        "text/plain": [
                            "  0%|          | 0/3 [00:00<?, ?it/s]"
                        ]
                    },
                    "metadata": {},
                    "output_type": "display_data"
                },
                {
                    "name": "stderr",
                    "output_type": "stream",
                    "text": [
                        "100%|██████████| 188/188 [00:08<00:00, 21.02it/s]\n",
                        "Found cached dataset json (/home/onyxia/.cache/huggingface/datasets/SetFit___json/SetFit--20_newsgroups-f9362e018b6adf67/0.0.0/0f7e3662623656454fcd2b650f34e886a7db4b9104504885bd462096cc7a9f51)\n"
                    ]
                },
                {
                    "data": {
                        "application/vnd.jupyter.widget-view+json": {
                            "model_id": "5b2231012b3a46c0a844d371ba1a1866",
                            "version_major": 2,
                            "version_minor": 0
                        },
                        "text/plain": [
                            "  0%|          | 0/2 [00:00<?, ?it/s]"
                        ]
                    },
                    "metadata": {},
                    "output_type": "display_data"
                },
                {
                    "name": "stderr",
                    "output_type": "stream",
                    "text": [
                        "100%|██████████| 1883/1883 [02:44<00:00, 11.43it/s]\n"
                    ]
                }
            ],
            "source": [
                "for ds_n, ds in oods.items():\n",
                "    out_dataset  =  load_dataset(*ds)\n",
                "    ood_dl = DataLoader(dataset=out_dataset['test'],\n",
                "                        batch_size=batch_sizes[ds_n], \n",
                "                        collate_fn= collate_fns[ds_n], #for flickr\n",
                "                        )\n",
                "    embds = []\n",
                "    logits = []\n",
                "    attns = []\n",
                "    for batch in tqdm(ood_dl):\n",
                "        tk_batch = tokenizer(batch,return_tensors=\"pt\", truncation=True, padding=True)['input_ids'].to('cuda')\n",
                "        outputs = lb.forward(tk_batch)\n",
                "        embds.append(outputs['embeddings'].cpu().detach())\n",
                "        logits.append(outputs['logits'].cpu().detach())\n",
                "        attns.append(outputs['attention'].cpu().detach())\n",
                "\n",
                "    with open(f'embeddings_ood_test_{ds_n}.pkl', 'wb') as f:\n",
                "        pickle.dump(embds, f)\n",
                "\n",
                "    with open(f'logits_ood_test_{ds_n}.pkl', 'wb') as f:\n",
                "        pickle.dump(logits, f)\n",
                "\n",
                "    with open(f'attns_ood_test_{ds_n}.pkl', 'wb') as f:\n",
                "        pickle.dump(attns, f)"
            ]
        },
        {
            "cell_type": "code",
            "execution_count": 68,
            "metadata": {},
            "outputs": [],
            "source": []
        },
        {
            "cell_type": "code",
            "execution_count": 50,
            "metadata": {},
            "outputs": [],
            "source": [
                "test_in_dl = DataLoader(dataset['test'], batch_size=8)"
            ]
        },
        {
            "cell_type": "markdown",
            "metadata": {},
            "source": [
                "environ 14 min"
            ]
        },
        {
            "cell_type": "code",
            "execution_count": 52,
            "metadata": {},
            "outputs": [
                {
                    "name": "stderr",
                    "output_type": "stream",
                    "text": [
                        "100%|██████████| 3125/3125 [11:58<00:00,  4.35it/s]\n"
                    ]
                }
            ],
            "source": [
                "embds = []\n",
                "logits = []\n",
                "attns = []\n",
                "for batch in tqdm(test_in_dl):\n",
                "    data = batch['text']\n",
                "    tk_batch = tokenizer(data,return_tensors=\"pt\", truncation=True, padding=True)['input_ids'].to('cuda')\n",
                "    outputs = lb.forward(tk_batch, return_logits=True)\n",
                "    embds.append(outputs['embeddings'].cpu().detach())\n",
                "    logits.append(outputs['logits'].cpu().detach())\n",
                "    attns.append(outputs['attention'].cpu().detach())"
            ]
        },
        {
            "cell_type": "code",
            "execution_count": 53,
            "metadata": {},
            "outputs": [],
            "source": [
                "with open('nlp_data/embeddings_test.pkl', 'wb') as f:\n",
                "    pickle.dump(embds, f)\n",
                "\n",
                "with open('nlp_data/logits_test.pkl', 'wb') as f:\n",
                "    pickle.dump(logits, f)\n",
                "\n",
                "with open('nlp_data/attns_test.pkl', 'wb') as f:\n",
                "    pickle.dump(attns, f)"
            ]
        },
        {
            "cell_type": "markdown",
            "metadata": {},
            "source": [
                "## Loading"
            ]
        },
        {
            "cell_type": "code",
            "execution_count": 2,
            "metadata": {},
            "outputs": [],
            "source": [
                "with open('nlp_data/embeddings_train.pkl', 'rb') as f:\n",
                "    embd_train = pickle.load(f)\n",
                "\n",
                "with open('nlp_data/logits_train.pkl', 'rb') as f:\n",
                "    logit_train = pickle.load(f)"
            ]
        },
        {
            "cell_type": "code",
            "execution_count": 3,
            "metadata": {},
            "outputs": [],
            "source": [
                "with open('nlp_data/embeddings_ood_test_sst2.pkl', 'rb') as f:\n",
                "    embd_ood = pickle.load(f)\n",
                "\n",
                "with open('nlp_data/logits_ood_test_sst2.pkl', 'rb') as f:\n",
                "    logit_ood = pickle.load(f)"
            ]
        },
        {
            "cell_type": "code",
            "execution_count": 5,
            "metadata": {},
            "outputs": [],
            "source": [
                "with open('nlp_data/embeddings_imdb_test.pkl', 'rb') as f:\n",
                "    embd_test = pickle.load(f)\n",
                "\n",
                "with open('nlp_data/logits_imdb_test.pkl', 'rb') as f:\n",
                "    logit_test = pickle.load(f)"
            ]
        },
        {
            "cell_type": "code",
            "execution_count": 6,
            "metadata": {},
            "outputs": [],
            "source": [
                "logit_train = torch.cat(logit_train).numpy()\n",
                "embd_train = torch.cat(embd_train).numpy()\n",
                "\n",
                "train_distrib  = {l: embd_train[np.where(np.argmax(logit_train, axis=-1)==l)] for l in range(logit_train.shape[1])}\n"
            ]
        },
        {
            "cell_type": "code",
            "execution_count": 7,
            "metadata": {},
            "outputs": [],
            "source": [
                "logit_test = torch.cat(logit_test).numpy()\n",
                "embd_test = torch.cat(embd_test).numpy()\n",
                "\n",
                "test_distrib  = {l: embd_test[np.where(np.argmax(logit_test, axis=-1)==l)] for l in range(logit_test.shape[1])}\n"
            ]
        },
        {
            "cell_type": "code",
            "execution_count": 8,
            "metadata": {},
            "outputs": [],
            "source": [
                "logit_ood = torch.cat(logit_ood).numpy()\n",
                "embd_ood = torch.cat(embd_ood).numpy()\n",
                "\n",
                "ood_distrib  = {l: embd_ood[np.where(np.argmax(logit_ood, axis=-1)==l)] for l in range(logit_ood.shape[1])}\n"
            ]
        },
        {
            "cell_type": "code",
            "execution_count": 9,
            "metadata": {},
            "outputs": [],
            "source": [
                "def MahaDist(X, distrib):\n",
                "    m = np.mean(distrib, axis=0).reshape(1, 768)\n",
                "    VI= np.linalg.inv(np.cov(distrib.T))\n",
                "    return cdist(XA = X, XB = m, metric = 'mahalanobis', VI=VI)"
            ]
        },
        {
            "cell_type": "code",
            "execution_count": 15,
            "metadata": {},
            "outputs": [],
            "source": [
                "scores_ood = np.concatenate((AI_IRW(X=train_distrib[0], AI=True, X_test=ood_distrib[0], n_dirs=1000) ,AI_IRW(X=train_distrib[1], AI=True, X_test=ood_distrib[1], n_dirs=1000)))\n",
                "#scores_ood = np.concatenate((MahaDist(X=ood_distrib[0], distrib=train_distrib[0]) ,MahaDist(X=ood_distrib[1], distrib=train_distrib[0])))[:,0]"
            ]
        },
        {
            "cell_type": "code",
            "execution_count": 16,
            "metadata": {},
            "outputs": [],
            "source": [
                "scores_test = np.concatenate((AI_IRW(X=train_distrib[0], AI=True, X_test=test_distrib[0], n_dirs=1000) ,AI_IRW(X=train_distrib[1], AI=True, X_test=test_distrib[1], n_dirs=1000)))\n",
                "#scores_test = np.concatenate((MahaDist(X=test_distrib[0], distrib=train_distrib[0]) ,MahaDist(X=test_distrib[1], distrib=train_distrib[1])))[:,0]\n"
            ]
        },
        {
            "cell_type": "code",
            "execution_count": 17,
            "metadata": {},
            "outputs": [
                {
                    "data": {
                        "image/png": "[encoded data removed]",
                        "text/plain": [
                            "<Figure size 640x480 with 1 Axes>"
                        ]
                    },
                    "metadata": {},
                    "output_type": "display_data"
                }
            ],
            "source": [
                "#c = 2*np.max(np.concatenate((scores_ood, scores_test)))\n",
                "sns.histplot(scores_test, label='in', binwidth=6.4e-3, color='skyblue',kde=True, stat='probability',  line_kws={\"lw\":3})\n",
                "sns.histplot(scores_ood, label='out',binwidth=6.4e-3, color='red', kde=True, stat='probability',  line_kws={\"lw\":3})\n",
                "plt.legend()\n",
                "plt.title(\"D_IRW\")\n",
                "plt.show()"
            ]
        },
        {
            "cell_type": "code",
            "execution_count": 12,
            "metadata": {},
            "outputs": [],
            "source": []
        },
        {
            "cell_type": "code",
            "execution_count": 23,
            "metadata": {},
            "outputs": [],
            "source": [
                "tau=50\n",
                "clf_0 = OODDetector(tau=tau, similarity='mahalanobis')\n",
                "clf_1 = OODDetector(tau=tau, similarity='mahalanobis')"
            ]
        },
        {
            "cell_type": "code",
            "execution_count": 24,
            "metadata": {},
            "outputs": [],
            "source": [
                "clf_0.fit(train_distrib[0])\n",
                "clf_1.fit(train_distrib[1])"
            ]
        },
        {
            "cell_type": "code",
            "execution_count": 25,
            "metadata": {},
            "outputs": [
                {
                    "data": {
                        "text/plain": [
                            "0.9878325382885362"
                        ]
                    },
                    "execution_count": 25,
                    "metadata": {},
                    "output_type": "execute_result"
                }
            ],
            "source": [
                "(clf_1.score(X_1, y_1)+clf_0.score(X_0, y_0))/2"
            ]
        },
        {
            "cell_type": "code",
            "execution_count": 9,
            "metadata": {},
            "outputs": [],
            "source": [
                "X_0 =  np.concatenate((ood_distrib[0], test_distrib[0]))\n",
                "y_0 =   np.concatenate((np.ones((ood_distrib[0].shape[0])), np.zeros((test_distrib[0].shape[0]))))\n",
                "\n",
                "X_1 =  np.concatenate((ood_distrib[1], test_distrib[1]))\n",
                "y_1 =   np.concatenate((np.ones((ood_distrib[1].shape[0])), np.zeros((test_distrib[1].shape[0]))))\n",
                "\n",
                "X_ = np.concatenate((logit_ood, logit_test))\n",
                "y_ = np.concatenate((np.ones(logit_ood.shape[0]), np.zeros(logit_test.shape[0])))"
            ]
        },
        {
            "cell_type": "code",
            "execution_count": 16,
            "metadata": {},
            "outputs": [],
            "source": [
                "clf_MSP = OODDetector(tau=5e-2, similarity='MSP').fit()"
            ]
        },
        {
            "cell_type": "code",
            "execution_count": 19,
            "metadata": {},
            "outputs": [
                {
                    "data": {
                        "text/plain": [
                            "0.5099720405094432"
                        ]
                    },
                    "execution_count": 19,
                    "metadata": {},
                    "output_type": "execute_result"
                }
            ],
            "source": [
                "balanced_accuracy_score(clf_MSP.predict(X_), y_)"
            ]
        },
        {
            "cell_type": "code",
            "execution_count": 21,
            "metadata": {},
            "outputs": [
                {
                    "ename": "ValueError",
                    "evalue": "x is neither increasing nor decreasing : [0 0 0 ... 0 0 0].",
                    "output_type": "error",
                    "traceback": [
                        "\u001b[0;31m---------------------------------------------------------------------------\u001b[0m",
                        "\u001b[0;31mValueError\u001b[0m                                Traceback (most recent call last)",
                        "Cell \u001b[0;32mIn[21], line 1\u001b[0m\n\u001b[0;32m----> 1\u001b[0m auc(clf_MSP\u001b[39m.\u001b[39;49mpredict(X_), y_)\n",
                        "File \u001b[0;32m/opt/mamba/lib/python3.10/site-packages/sklearn/metrics/_ranking.py:101\u001b[0m, in \u001b[0;36mauc\u001b[0;34m(x, y)\u001b[0m\n\u001b[1;32m     99\u001b[0m         direction \u001b[39m=\u001b[39m \u001b[39m-\u001b[39m\u001b[39m1\u001b[39m\n\u001b[1;32m    100\u001b[0m     \u001b[39melse\u001b[39;00m:\n\u001b[0;32m--> 101\u001b[0m         \u001b[39mraise\u001b[39;00m \u001b[39mValueError\u001b[39;00m(\u001b[39m\"\u001b[39m\u001b[39mx is neither increasing nor decreasing : \u001b[39m\u001b[39m{}\u001b[39;00m\u001b[39m.\u001b[39m\u001b[39m\"\u001b[39m\u001b[39m.\u001b[39mformat(x))\n\u001b[1;32m    103\u001b[0m area \u001b[39m=\u001b[39m direction \u001b[39m*\u001b[39m np\u001b[39m.\u001b[39mtrapz(y, x)\n\u001b[1;32m    104\u001b[0m \u001b[39mif\u001b[39;00m \u001b[39misinstance\u001b[39m(area, np\u001b[39m.\u001b[39mmemmap):\n\u001b[1;32m    105\u001b[0m     \u001b[39m# Reductions such as .sum used internally in np.trapz do not return a\u001b[39;00m\n\u001b[1;32m    106\u001b[0m     \u001b[39m# scalar by default for numpy.memmap instances contrary to\u001b[39;00m\n\u001b[1;32m    107\u001b[0m     \u001b[39m# regular numpy.ndarray instances.\u001b[39;00m\n",
                        "\u001b[0;31mValueError\u001b[0m: x is neither increasing nor decreasing : [0 0 0 ... 0 0 0]."
                    ]
                }
            ],
            "source": []
        },
        {
            "cell_type": "code",
            "execution_count": 20,
            "metadata": {},
            "outputs": [],
            "source": [
                "from sklearn.metrics import balanced_accuracy_score, auc"
            ]
        },
        {
            "cell_type": "code",
            "execution_count": null,
            "metadata": {},
            "outputs": [
                {
                    "data": {
                        "image/png": "[encoded data removed]",
                        "text/plain": [
                            "<Figure size 640x480 with 1 Axes>"
                        ]
                    },
                    "metadata": {},
                    "output_type": "display_data"
                }
            ],
            "source": [
                "#Maha\n",
                "binwidth = 4\n",
                "sns.histplot(scores_test, label='in', binwidth=binwidth, color='skyblue',kde=True, stat='probability',  line_kws={\"lw\":3})\n",
                "sns.histplot(scores_ood, label='out',binwidth=binwidth, color='red', kde=True, stat='probability',  line_kws={\"lw\":3})\n",
                "plt.legend()\n",
                "plt.title(\"D_M\")\n",
                "plt.show()"
            ]
        },
        {
            "cell_type": "code",
            "execution_count": 38,
            "metadata": {},
            "outputs": [],
            "source": [
                "#import random search from sklearn\n",
                "from sklearn.model_selection import RandomizedSearchCV\n",
                "#import shuffle from sklearn\n",
                "from sklearn.utils import shuffle\n",
                "\n",
                "X_0, y_0 = shuffle(X_0, y_0)\n",
                "X_1, y_1 = shuffle(X_1, y_1)\n",
                "X_, y_ = shuffle(X_, y_)\n",
                "\n",
                "# Create the parameter grid based on the results of random search, tau follows a gaussian centered in 50 with std 10\n",
                "param_grid = {\n",
                "    'tau': np.random.uniform(0, 10, 100), \n",
                "    'similarity': ['mahalanobis'],\n",
                "    'base_distribution' : [train_distrib[0]]\n",
                "}\n",
                "\n",
                "# Create a based model\n",
                "clf = OODDetector(similarity='mahalanobis', tau=50, base_distribution=train_distrib[0])\n",
                "\n",
                "# Instantiate the grid search model\n",
                "grid_search = RandomizedSearchCV(estimator = clf, param_distributions = param_grid,\n",
                "                            cv = 5, n_jobs = -1, verbose = 0, scoring='balanced_accuracy')\n"
            ]
        },
        {
            "cell_type": "code",
            "execution_count": 39,
            "metadata": {},
            "outputs": [
                {
                    "name": "stdout",
                    "output_type": "stream",
                    "text": [
                        "{'tau': 1.7822930975848006, 'similarity': 'mahalanobis', 'base_distribution': array([[ 0.1655158 ,  0.19259338, -0.05701194, ..., -0.04087529,\n",
                        "         0.06450007,  0.27201617],\n",
                        "       [ 0.26176506,  0.13326405,  0.04254614, ..., -0.02392149,\n",
                        "         0.06750306,  0.20914446],\n",
                        "       [ 0.16050506, -0.07738341,  0.21776502, ..., -0.1432903 ,\n",
                        "        -0.04918719, -0.1345499 ],\n",
                        "       ...,\n",
                        "       [-0.07087212, -0.27570873,  0.08874413, ..., -0.14185995,\n",
                        "        -0.05530067, -0.18070912],\n",
                        "       [-0.13870718, -0.08804137, -0.18017988, ..., -0.1654126 ,\n",
                        "        -0.06333739, -0.11101169],\n",
                        "       [ 0.00867541, -0.23554574,  0.14202845, ..., -0.29557773,\n",
                        "        -0.16673136, -0.346024  ]], dtype=float32)}\n"
                    ]
                }
            ],
            "source": [
                "grid_search.fit(X_0, y_0)\n",
                "print(grid_search.best_params_)"
            ]
        },
        {
            "cell_type": "code",
            "execution_count": 40,
            "metadata": {},
            "outputs": [
                {
                    "data": {
                        "text/plain": [
                            "0.5"
                        ]
                    },
                    "execution_count": 40,
                    "metadata": {},
                    "output_type": "execute_result"
                }
            ],
            "source": [
                "grid_search.best_score_"
            ]
        },
        {
            "cell_type": "code",
            "execution_count": 71,
            "metadata": {},
            "outputs": [
                {
                    "data": {
                        "text/plain": [
                            "torch.Size([1, 768])"
                        ]
                    },
                    "execution_count": 71,
                    "metadata": {},
                    "output_type": "execute_result"
                }
            ],
            "source": []
        },
        {
            "cell_type": "code",
            "execution_count": null,
            "metadata": {},
            "outputs": [],
            "source": []
        }
    ],
    "metadata": {
        "kernelspec": {
            "display_name": "env_nlp",
            "language": "python",
            "name": "python3"
        },
        "language_info": {
            "codemirror_mode": {
                "name": "ipython",
                "version": 3
            },
            "file_extension": ".py",
            "mimetype": "text/x-python",
            "name": "python",
            "nbconvert_exporter": "python",
            "pygments_lexer": "ipython3",
            "version": "3.10.8 | packaged by conda-forge | (main, Nov 22 2022, 08:26:04) [GCC 10.4.0]"
        },
        "orig_nbformat": 4,
        "vscode": {
            "interpreter": {
                "hash": "d77e94ad5154a8372e5b84147a12781a57ba1e1ef1cb48f851f04359198115a0"
            }
        }
    },
    "nbformat": 4,
    "nbformat_minor": 2
}
