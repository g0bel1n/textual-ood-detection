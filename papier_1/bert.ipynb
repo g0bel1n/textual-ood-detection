{
 "cells": [
  {
   "cell_type": "code",
   "execution_count": 1,
   "metadata": {},
   "outputs": [],
   "source": [
    "import matplotlib.pyplot as plt\n",
    "import numpy as np\n",
    "import pandas as pd\n",
    "import seaborn as sns\n",
    "import torch\n",
    "from datasets import load_dataset\n",
    "from torch import nn\n",
    "from tqdm import tqdm, trange\n",
    "from transformers import AutoModelForSequenceClassification, AutoTokenizer\n",
    "\n",
    "from torch.utils.data import DataLoader\n",
    "import pickle\n",
    "from aiirw import AI_IRW\n",
    "\n",
    "\n",
    "sns.set_style('white')"
   ]
  },
  {
   "cell_type": "code",
   "execution_count": 17,
   "metadata": {},
   "outputs": [
    {
     "name": "stderr",
     "output_type": "stream",
     "text": [
      "Found cached dataset imdb (/home/onyxia/.cache/huggingface/datasets/imdb/plain_text/1.0.0/2fdd8b9bcadd6e7055e742a706876ba43f19faee861df134affd7a3f60fc38a1)\n"
     ]
    },
    {
     "data": {
      "application/vnd.jupyter.widget-view+json": {
       "model_id": "f0572943a3294e4588fbcb961b2c7548",
       "version_major": 2,
       "version_minor": 0
      },
      "text/plain": [
       "  0%|          | 0/3 [00:00<?, ?it/s]"
      ]
     },
     "metadata": {},
     "output_type": "display_data"
    },
    {
     "name": "stderr",
     "output_type": "stream",
     "text": [
      "Found cached dataset sst2 (/home/onyxia/.cache/huggingface/datasets/sst2/default/2.0.0/9896208a8d85db057ac50c72282bcb8fe755accc671a57dd8059d4e130961ed5)\n"
     ]
    },
    {
     "data": {
      "application/vnd.jupyter.widget-view+json": {
       "model_id": "e7d8f153364648319f61e534182824f4",
       "version_major": 2,
       "version_minor": 0
      },
      "text/plain": [
       "  0%|          | 0/3 [00:00<?, ?it/s]"
      ]
     },
     "metadata": {},
     "output_type": "display_data"
    }
   ],
   "source": [
    "tokenizer = AutoTokenizer.from_pretrained(\"fabriceyhc/bert-base-uncased-imdb\")\n",
    "\n",
    "model = AutoModelForSequenceClassification.from_pretrained(\"fabriceyhc/bert-base-uncased-imdb\")\n",
    "dataset = load_dataset(\"imdb\")\n",
    "out_dataset = load_dataset(\"sst2\")"
   ]
  },
  {
   "cell_type": "code",
   "execution_count": 58,
   "metadata": {},
   "outputs": [],
   "source": [
    "class LatentBert(nn.Module):\n",
    "\n",
    "    def __init__(self, base_model):\n",
    "        super().__init__()\n",
    "        self.base_model = base_model\n",
    "        self.N = len(self.base_model.bert.encoder.layer)\n",
    "\n",
    "    def to(self, device):\n",
    "        self.base_model.to(device)\n",
    "        return self\n",
    "\n",
    "    def forward(self, x, return_class = False):\n",
    "        x = self.base_model.bert.embeddings(x)\n",
    "        latent_reps = torch.zeros((x.shape[0], x.shape[2],self.N)\n",
    "        )\n",
    "        for i, layer in enumerate(self.base_model.bert.encoder.layer) :\n",
    "            x = layer(x)[0]\n",
    "            latent_reps[:,:,i] = x[:,0,:] #Pooling is done by taking the hidden state of first token (cf Bert implementation)\n",
    "\n",
    "        if return_class:\n",
    "            x = self.base_model.bert.pooler(x)\n",
    "            x = self.base_model.classifier(x)\n",
    "\n",
    "            return torch.mean(latent_reps, axis=-1), torch.argmax(x, axis=-1)\n",
    "            \n",
    "        return torch.mean(latent_reps, axis=-1)"
   ]
  },
  {
   "cell_type": "code",
   "execution_count": 60,
   "metadata": {},
   "outputs": [],
   "source": [
    "lb = LatentBert(base_model=model).to('cuda')"
   ]
  },
  {
   "cell_type": "code",
   "execution_count": 73,
   "metadata": {},
   "outputs": [],
   "source": [
    "train_in_dl = DataLoader(dataset['train'], batch_size=8)"
   ]
  },
  {
   "cell_type": "markdown",
   "metadata": {},
   "source": [
    "environ 14min"
   ]
  },
  {
   "cell_type": "code",
   "execution_count": 74,
   "metadata": {},
   "outputs": [
    {
     "name": "stderr",
     "output_type": "stream",
     "text": [
      "100%|██████████| 3125/3125 [14:35<00:00,  3.57it/s]\n"
     ]
    }
   ],
   "source": [
    "embds = []\n",
    "labels = []\n",
    "for batch in tqdm(train_in_dl):\n",
    "    data = batch['text']\n",
    "    tk_batch = tokenizer(data,return_tensors=\"pt\", truncation=True, padding=True)['input_ids'].to('cuda')\n",
    "    embd, label = lb.forward(tk_batch, return_class=True)\n",
    "    embds.append(embd.cpu().detach())\n",
    "    labels.append(label.cpu().detach())"
   ]
  },
  {
   "cell_type": "code",
   "execution_count": 75,
   "metadata": {},
   "outputs": [],
   "source": [
    "with open('embeddings_train.pkl', 'wb') as f:\n",
    "    pickle.dump(embds, f)\n",
    "\n",
    "with open('labels_train.pkl', 'wb') as f:\n",
    "    pickle.dump(labels, f)\n",
    "    "
   ]
  },
  {
   "cell_type": "code",
   "execution_count": 61,
   "metadata": {},
   "outputs": [],
   "source": [
    "ood_dl = DataLoader(dataset=out_dataset['test'], batch_size=16)"
   ]
  },
  {
   "cell_type": "code",
   "execution_count": 66,
   "metadata": {},
   "outputs": [
    {
     "name": "stderr",
     "output_type": "stream",
     "text": [
      "100%|██████████| 114/114 [00:05<00:00, 22.11it/s]\n"
     ]
    }
   ],
   "source": [
    "embds = []\n",
    "labels = []\n",
    "for batch in tqdm(ood_dl):\n",
    "    data = batch['sentence']\n",
    "    tk_batch = tokenizer(data,return_tensors=\"pt\", truncation=True, padding=True)['input_ids'].to('cuda')\n",
    "    embd, label = lb.forward(tk_batch, return_class=True)\n",
    "    embds.append(embd.cpu().detach())\n",
    "    labels.append(label.cpu().detach())\n",
    "    "
   ]
  },
  {
   "cell_type": "code",
   "execution_count": 67,
   "metadata": {},
   "outputs": [],
   "source": [
    "with open('embeddings_ood_test.pkl', 'wb') as f:\n",
    "    pickle.dump(embds, f)\n",
    "\n",
    "with open('labels_ood_test.pkl', 'wb') as f:\n",
    "    pickle.dump(labels, f)"
   ]
  },
  {
   "cell_type": "code",
   "execution_count": 76,
   "metadata": {},
   "outputs": [],
   "source": [
    "test_in_dl = DataLoader(dataset['test'], batch_size=8)"
   ]
  },
  {
   "cell_type": "markdown",
   "metadata": {},
   "source": [
    "environ 14 min"
   ]
  },
  {
   "cell_type": "code",
   "execution_count": 77,
   "metadata": {},
   "outputs": [
    {
     "name": "stderr",
     "output_type": "stream",
     "text": [
      "100%|██████████| 3125/3125 [15:10<00:00,  3.43it/s]\n"
     ]
    }
   ],
   "source": [
    "embds = []\n",
    "labels = []\n",
    "for batch in tqdm(test_in_dl):\n",
    "    data = batch['text']\n",
    "    tk_batch = tokenizer(data,return_tensors=\"pt\", truncation=True, padding=True)['input_ids'].to('cuda')\n",
    "    embd, label = lb.forward(tk_batch, return_class=True)\n",
    "    embds.append(embd.cpu().detach())\n",
    "    labels.append(label.cpu().detach())"
   ]
  },
  {
   "cell_type": "code",
   "execution_count": 78,
   "metadata": {},
   "outputs": [],
   "source": [
    "with open('embeddings_test.pkl', 'wb') as f:\n",
    "    pickle.dump(embds, f)\n",
    "\n",
    "with open('labels_test.pkl', 'wb') as f:\n",
    "    pickle.dump(labels, f)"
   ]
  },
  {
   "cell_type": "markdown",
   "metadata": {},
   "source": [
    "## Loading"
   ]
  },
  {
   "cell_type": "code",
   "execution_count": 79,
   "metadata": {},
   "outputs": [],
   "source": [
    "with open('embeddings_train.pkl', 'rb') as f:\n",
    "    embd_train = pickle.load(f)\n",
    "\n",
    "with open('labels_train.pkl', 'rb') as f:\n",
    "    label_train = pickle.load(f)"
   ]
  },
  {
   "cell_type": "code",
   "execution_count": 80,
   "metadata": {},
   "outputs": [],
   "source": [
    "with open('embeddings_ood_test.pkl', 'rb') as f:\n",
    "    embd_ood = pickle.load(f)\n",
    "\n",
    "with open('labels_ood_test.pkl', 'rb') as f:\n",
    "    label_ood = pickle.load(f)"
   ]
  },
  {
   "cell_type": "code",
   "execution_count": 81,
   "metadata": {},
   "outputs": [],
   "source": [
    "with open('embeddings_test.pkl', 'rb') as f:\n",
    "    embd_test = pickle.load(f)\n",
    "\n",
    "with open('labels_test.pkl', 'rb') as f:\n",
    "    label_test = pickle.load(f)"
   ]
  },
  {
   "cell_type": "code",
   "execution_count": 82,
   "metadata": {},
   "outputs": [],
   "source": [
    "label_train = torch.cat(label_train).numpy()\n",
    "embd_train = torch.cat(embd_train).numpy()\n",
    "\n",
    "train_distrib  = {l: embd_train[np.where(label_train==l)] for l in np.unique(label_train)}\n"
   ]
  },
  {
   "cell_type": "code",
   "execution_count": 83,
   "metadata": {},
   "outputs": [],
   "source": [
    "label_test = torch.cat(label_test).numpy()\n",
    "embd_test = torch.cat(embd_test).numpy()\n",
    "\n",
    "test_distrib  = {l: embd_test[np.where(label_test==l)] for l in np.unique(label_test)}\n"
   ]
  },
  {
   "cell_type": "code",
   "execution_count": 84,
   "metadata": {},
   "outputs": [],
   "source": [
    "label_ood_ = torch.cat(label_ood).numpy()\n",
    "embd_ood_ = torch.cat(embd_ood).numpy()\n",
    "\n",
    "ood_distrib  = {l: embd_ood_[np.where(label_ood_==l)] for l in np.unique(label_ood_)}\n"
   ]
  },
  {
   "cell_type": "code",
   "execution_count": 85,
   "metadata": {},
   "outputs": [],
   "source": [
    "scores_ood = np.concatenate((AI_IRW(X=train_distrib[0], AI=False, X_test=ood_distrib[0], n_dirs=200) ,AI_IRW(X=train_distrib[1], AI=False, X_test=ood_distrib[1], n_dirs=200)))"
   ]
  },
  {
   "cell_type": "code",
   "execution_count": 86,
   "metadata": {},
   "outputs": [],
   "source": [
    "scores_test = np.concatenate((AI_IRW(X=train_distrib[0], AI=False, X_test=test_distrib[0], n_dirs=200) ,AI_IRW(X=train_distrib[1], AI=False, X_test=test_distrib[1], n_dirs=200)))"
   ]
  },
  {
   "cell_type": "code",
   "execution_count": 89,
   "metadata": {},
   "outputs": [
    {
     "data": {
      "image/png": "[encoded data removed]",
      "text/plain": [
       "<Figure size 640x480 with 1 Axes>"
      ]
     },
     "metadata": {},
     "output_type": "display_data"
    }
   ],
   "source": [
    "sns.histplot(scores_test, label='in', bins=50, kde=True, stat='frequency', color='blue',  line_kws={\"lw\":3})\n",
    "sns.histplot(scores_ood, label='out', bins=50, kde=True, stat='frequency', color='red',  line_kws={\"lw\":3})\n",
    "plt.legend()\n",
    "plt.show()"
   ]
  }
 ],
 "metadata": {
  "kernelspec": {
   "display_name": "base",
   "language": "python",
   "name": "python3"
  },
  "language_info": {
   "codemirror_mode": {
    "name": "ipython",
    "version": 3
   },
   "file_extension": ".py",
   "mimetype": "text/x-python",
   "name": "python",
   "nbconvert_exporter": "python",
   "pygments_lexer": "ipython3",
   "version": "3.10.4"
  },
  "orig_nbformat": 4,
  "vscode": {
   "interpreter": {
    "hash": "3fa046f995eb80ac40c0869a1f9df46519f4ada8b8c395ef25dd1aa1a1a2fc63"
   }
  }
 },
 "nbformat": 4,
 "nbformat_minor": 2
}
