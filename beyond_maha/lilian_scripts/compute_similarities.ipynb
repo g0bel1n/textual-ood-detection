{
 "cells": [
  {
   "cell_type": "code",
   "execution_count": null,
   "metadata": {},
   "outputs": [],
   "source": [
    "import pandas as pd\n",
    "import numpy as np\n",
    "from scipy.spatial.distance import mahalanobis, cdist\n",
    "\n",
    "import plotly.express as px\n",
    "import pandas as pd\n",
    "\n",
    "from aiirw import AI_IRW\n",
    "\n",
    "from tqdm import tqdm"
   ]
  },
  {
   "cell_type": "code",
   "execution_count": null,
   "metadata": {},
   "outputs": [],
   "source": [
    "df = pd.read_csv('data/train_latent.csv')\n",
    "df_in = pd.read_csv('data/in_latent.csv')\n",
    "df_out = pd.read_csv('data/out_latent.csv')"
   ]
  },
  {
   "attachments": {},
   "cell_type": "markdown",
   "metadata": {},
   "source": [
    "## Helpers"
   ]
  },
  {
   "cell_type": "code",
   "execution_count": null,
   "metadata": {},
   "outputs": [],
   "source": [
    "def MahaDist(X, distrib):\n",
    "    m = np.mean(distrib, axis=0).reshape(1, 768)\n",
    "    VI= np.linalg.inv(np.cov(distrib.T))\n",
    "    return cdist(XA = X, XB = m, metric = 'mahalanobis', VI=VI)"
   ]
  },
  {
   "cell_type": "code",
   "execution_count": null,
   "metadata": {},
   "outputs": [],
   "source": [
    "def error_threshold(in_distances, out_distances, threshold):\n",
    "    err = len([i for i in in_distances if i > threshold]) + len([i for i in out_distances if i <= threshold])\n",
    "    return err / (len(in_distances) + len(out_distances))\n",
    "\n",
    "def minimize_error(in_distances, out_distances, threshold_range):\n",
    "    errors = [error_threshold(in_distances, out_distances, threshold) for threshold in tqdm(threshold_range)]\n",
    "    return np.min(errors), threshold_range[np.argmin(errors)]"
   ]
  },
  {
   "cell_type": "code",
   "execution_count": null,
   "metadata": {},
   "outputs": [],
   "source": [
    "def alternative_aggregation_function(coeffs):\n",
    "    def f(df):\n",
    "        X = np.array(df.T)\n",
    "        softmax_scores = X[:, -1]\n",
    "        preds = X[:, -2]\n",
    "        X = X[:, :-2]\n",
    "        X = X.reshape((X.shape[0], 768, 12))\n",
    "\n",
    "        C = np.ones(X.shape)\n",
    "        for i in range(len(coeffs)):\n",
    "            C[:, :, i] = coeffs[i]\n",
    "        X = X * C\n",
    "\n",
    "        X = np.mean(X, axis = 2)\n",
    "        \n",
    "        return X, softmax_scores, preds\n",
    "\n",
    "    return f"
   ]
  },
  {
   "cell_type": "code",
   "execution_count": null,
   "metadata": {},
   "outputs": [],
   "source": [
    "def power_mean_aggregation_function(p):\n",
    "    def f(df):\n",
    "        X = np.array(df.T)\n",
    "        softmax_scores = X[:, -1]\n",
    "        preds = X[:, -2]\n",
    "        X = X[:, :-2]\n",
    "        X = X.reshape((X.shape[0], 768, 12))\n",
    "\n",
    "        C = np.ones(X.shape) * p\n",
    "        X = X ** C\n",
    "        X = np.mean(X, axis = 2)\n",
    "        X = X ** (1/p)\n",
    "        return X, softmax_scores, preds\n",
    "\n",
    "    return f"
   ]
  },
  {
   "attachments": {},
   "cell_type": "markdown",
   "metadata": {},
   "source": [
    "## Aggregation classique"
   ]
  },
  {
   "cell_type": "code",
   "execution_count": null,
   "metadata": {},
   "outputs": [],
   "source": [
    "def process_latent_df(df):\n",
    "    X = np.array(df.T)\n",
    "    softmax_scores = X[:, -1]\n",
    "    preds = X[:, -2]\n",
    "    X = X[:, :-2]\n",
    "    X = X.reshape((X.shape[0], 768, 12))\n",
    "    X = np.mean(X, axis = 2)\n",
    "    return X, softmax_scores, preds"
   ]
  },
  {
   "cell_type": "code",
   "execution_count": null,
   "metadata": {},
   "outputs": [],
   "source": [
    "X_out, softmax_out, preds_out = process_latent_df(df_out)\n",
    "X_in, softmax_in, preds_in = process_latent_df(df_in)\n",
    "X, softmax, preds = process_latent_df(df)"
   ]
  },
  {
   "cell_type": "code",
   "execution_count": null,
   "metadata": {},
   "outputs": [],
   "source": [
    "maha_in = np.concatenate([MahaDist(X_in[preds_in == 0], X[preds == 0]), MahaDist(X_in[preds_in == 1], X[preds == 1])])\n",
    "maha_out = np.concatenate([MahaDist(X_out[preds_out == 0], X[preds == 0]), MahaDist(X_out[preds_out == 1], X[preds == 1])])\n",
    "\n",
    "IRW_in = np.concatenate([AI_IRW(X=X[preds == 0], AI=True, X_test=X_in[preds_in == 0], n_dirs=1000), AI_IRW(X=X[preds == 1], AI=True, X_test=X_in[preds_in == 1], n_dirs=1000)])\n",
    "IRW_out = np.concatenate([AI_IRW(X=X[preds == 0], AI=True, X_test=X_out[preds_out == 0], n_dirs=1000), AI_IRW(X=X[preds == 1], AI=True, X_test=X_out[preds_out == 1], n_dirs=1000)])"
   ]
  },
  {
   "cell_type": "code",
   "execution_count": null,
   "metadata": {},
   "outputs": [],
   "source": [
    "sim_df = pd.DataFrame(np.concatenate([maha_in, maha_out]), columns=['Maha'])\n",
    "sim_df['origin'] = ['in'] * len(maha_in) + ['out'] * len(maha_out)\n",
    "sim_df['IRW'] = -np.concatenate([IRW_in, IRW_out])"
   ]
  },
  {
   "cell_type": "code",
   "execution_count": null,
   "metadata": {},
   "outputs": [],
   "source": [
    "# px.histogram(sim_df, x = 'Maha', color = 'origin', template = 'none', title = 'Maha').show()\n",
    "# px.histogram(sim_df, x = 'IRW', color = 'origin', template = 'none', title = 'IRW').show()"
   ]
  },
  {
   "cell_type": "code",
   "execution_count": null,
   "metadata": {},
   "outputs": [],
   "source": [
    "score_maha = minimize_error(\n",
    "                (sim_df[sim_df['origin'] == 'in']['Maha']),\n",
    "                (sim_df[sim_df['origin'] == 'out']['Maha']),\n",
    "                np.linspace(0, 100, 10000)\n",
    "                        )\n",
    "\n",
    "\n",
    "score_IRW = minimize_error(\n",
    "                (sim_df[sim_df['origin'] == 'in']['IRW']),\n",
    "                (sim_df[sim_df['origin'] == 'out']['IRW']),\n",
    "                np.linspace(-.3, -.05, 10000)\n",
    "                        )\n",
    "\n",
    "print(score_maha, score_IRW)"
   ]
  },
  {
   "attachments": {},
   "cell_type": "markdown",
   "metadata": {},
   "source": [
    "## Aggregation alternative"
   ]
  },
  {
   "cell_type": "code",
   "execution_count": null,
   "metadata": {},
   "outputs": [],
   "source": [
    "def pipeline_alternative_aggregation(df_in, df_out, df, aggregation_funtion):\n",
    "    X_out, softmax_out, preds_out = aggregation_funtion(df_out)\n",
    "    X_in, softmax_in, preds_in = aggregation_funtion(df_in)\n",
    "    X, softmax, preds = aggregation_funtion(df)\n",
    "\n",
    "    maha_in = np.concatenate([MahaDist(X_in[preds_in == 0], X[preds == 0]), MahaDist(X_in[preds_in == 1], X[preds == 1])])\n",
    "    maha_out = np.concatenate([MahaDist(X_out[preds_out == 0], X[preds == 0]), MahaDist(X_out[preds_out == 1], X[preds == 1])])\n",
    "\n",
    "    IRW_in = np.concatenate([AI_IRW(X=X[preds == 0], AI=True, X_test=X_in[preds_in == 0], n_dirs=1000), AI_IRW(X=X[preds == 1], AI=True, X_test=X_in[preds_in == 1], n_dirs=1000)])\n",
    "    IRW_out = np.concatenate([AI_IRW(X=X[preds == 0], AI=True, X_test=X_out[preds_out == 0], n_dirs=1000), AI_IRW(X=X[preds == 1], AI=True, X_test=X_out[preds_out == 1], n_dirs=1000)])\n",
    "\n",
    "    sim_df = pd.DataFrame(np.concatenate([maha_in, maha_out]), columns=['Maha'])\n",
    "    sim_df['origin'] = ['in'] * len(maha_in) + ['out'] * len(maha_out)\n",
    "    sim_df['IRW'] = -np.concatenate([IRW_in, IRW_out])\n",
    "\n",
    "\n",
    "    score_maha = minimize_error(\n",
    "                    (sim_df[sim_df['origin'] == 'in']['Maha']),\n",
    "                    (sim_df[sim_df['origin'] == 'out']['Maha']),\n",
    "                    np.linspace(np.mean(sim_df[sim_df['origin'] == 'in']['Maha']), \n",
    "                                np.mean(sim_df[sim_df['origin'] == 'out']['Maha']), \n",
    "                                10000)\n",
    "                            )\n",
    "\n",
    "\n",
    "    score_IRW = minimize_error(\n",
    "                    (sim_df[sim_df['origin'] == 'in']['IRW']),\n",
    "                    (sim_df[sim_df['origin'] == 'out']['IRW']),\n",
    "                    np.linspace(np.mean(sim_df[sim_df['origin'] == 'in']['IRW']), \n",
    "                                np.mean(sim_df[sim_df['origin'] == 'out']['IRW']), \n",
    "                                10000)                            )\n",
    "\n",
    "    return score_maha, score_IRW\n",
    "\n",
    "    "
   ]
  },
  {
   "cell_type": "code",
   "execution_count": null,
   "metadata": {},
   "outputs": [],
   "source": [
    "scores = pipeline_alternative_aggregation(df_in, df_out, df, process_latent_df)"
   ]
  },
  {
   "cell_type": "code",
   "execution_count": null,
   "metadata": {},
   "outputs": [],
   "source": [
    "coeffs = [np.exp(3*i) for i in range(12)]\n",
    "exp_process = alternative_aggregation_function(coeffs) \n",
    "\n",
    "scores_exp = pipeline_alternative_aggregation(df_in, df_out, df, exp_process)\n",
    "print(f\"Maha : {scores_exp[0][0] - scores[0][0]}, \\n IRW : {scores_exp[1][0] - scores[1][0]}\")"
   ]
  },
  {
   "cell_type": "code",
   "execution_count": null,
   "metadata": {},
   "outputs": [],
   "source": [
    "power_mean_process = power_mean_aggregation_function(1) \n",
    "\n",
    "scores_p = pipeline_alternative_aggregation(df_in, df_out, df, power_mean_process)\n",
    "print(f\"Maha : {scores_p[0][0] - scores[0][0]}, \\n IRW : {scores_p[1][0] - scores[1][0]}\")"
   ]
  },
  {
   "cell_type": "code",
   "execution_count": null,
   "metadata": {},
   "outputs": [],
   "source": [
    "score_list = []\n",
    "\n",
    "for i in range(12):\n",
    "    coeffs = [1] * 12\n",
    "    coeffs[i] = 0\n",
    "    process = alternative_aggregation_function(coeffs) \n",
    "    scores_ = pipeline_alternative_aggregation(df_in, df_out, df, process)\n",
    "    score_list.append(scores_)\n",
    "    print(f\"Maha : {scores_[0][0] - scores[0][0]}, \\n IRW : {scores_[1][0] - scores[1][0]}\")\n",
    "    \n"
   ]
  },
  {
   "cell_type": "code",
   "execution_count": null,
   "metadata": {},
   "outputs": [],
   "source": []
  }
 ],
 "metadata": {
  "kernelspec": {
   "display_name": "env_nlp",
   "language": "python",
   "name": "python3"
  },
  "language_info": {
   "codemirror_mode": {
    "name": "ipython",
    "version": 3
   },
   "file_extension": ".py",
   "mimetype": "text/x-python",
   "name": "python",
   "nbconvert_exporter": "python",
   "pygments_lexer": "ipython3",
   "version": "3.10.8"
  },
  "orig_nbformat": 4,
  "vscode": {
   "interpreter": {
    "hash": "d77e94ad5154a8372e5b84147a12781a57ba1e1ef1cb48f851f04359198115a0"
   }
  }
 },
 "nbformat": 4,
 "nbformat_minor": 2
}
